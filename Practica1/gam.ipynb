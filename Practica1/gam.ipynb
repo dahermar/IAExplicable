{
 "cells": [
  {
   "cell_type": "markdown",
   "metadata": {},
   "source": [
    "# Carga de librerías"
   ]
  },
  {
   "cell_type": "code",
   "execution_count": 2,
   "metadata": {},
   "outputs": [],
   "source": [
    "import pandas as pd\n",
    "import numpy as np\n",
    "from sklearn.model_selection import GridSearchCV\n",
    "from sklearn.model_selection import RandomizedSearchCV\n",
    "from sklearn.metrics import accuracy_score\n",
    "from sklearn.preprocessing import StandardScaler\n",
    "from interpret.glassbox import ExplainableBoostingClassifier\n",
    "from interpret import show\n",
    "from sklearn.metrics import confusion_matrix\n",
    "import seaborn as sns\n",
    "from sklearn.metrics import confusion_matrix\n",
    "import matplotlib.pyplot as plt\n",
    "from sklearn.metrics import roc_curve, roc_auc_score\n",
    "from sklearn.metrics import classification_report\n",
    "from sklearn.ensemble import RandomForestClassifier\n",
    "\n",
    "RANDOM_STATE = 123"
   ]
  },
  {
   "cell_type": "markdown",
   "metadata": {},
   "source": [
    "# Carga"
   ]
  },
  {
   "cell_type": "code",
   "execution_count": 3,
   "metadata": {},
   "outputs": [],
   "source": [
    "# Cargar conjuntos de datos\n",
    "train_csv = pd.read_csv('data/train.csv')\n",
    "validation_csv = pd.read_csv('data/validation.csv')\n",
    "test_csv = pd.read_csv('data/test.csv')\n",
    "\n",
    "# Separar datos y etiquetas\n",
    "feature_cols = train_csv.columns.values.tolist()[1:]\n",
    "X_train = train_csv[feature_cols]\n",
    "y_train = train_csv['RiskPerformance']\n",
    "X_validation = validation_csv[feature_cols]\n",
    "y_validation = validation_csv['RiskPerformance']\n",
    "X_test = test_csv[feature_cols]\n",
    "y_test = test_csv['RiskPerformance']"
   ]
  },
  {
   "cell_type": "code",
   "execution_count": 4,
   "metadata": {},
   "outputs": [
    {
     "name": "stdout",
     "output_type": "stream",
     "text": [
      "       ExternalRiskEstimate  MSinceOldestTradeOpen  MSinceMostRecentTradeOpen  \\\n",
      "count           6459.000000            6459.000000                6459.000000   \n",
      "mean              67.563090             183.783558                   8.548847   \n",
      "std               21.139229             109.572157                  12.708462   \n",
      "min               -9.000000              -9.000000                  -9.000000   \n",
      "25%               63.000000             117.000000                   2.500000   \n",
      "50%               71.000000             177.000000                   5.000000   \n",
      "75%               80.000000             249.000000                  11.000000   \n",
      "max               94.000000             603.000000                 227.000000   \n",
      "\n",
      "       AverageMInFile  NumSatisfactoryTrades  NumTrades60Ever2DerogPubRec  \\\n",
      "count     6459.000000            6459.000000                  6459.000000   \n",
      "mean        74.134231              19.403158                     0.053414   \n",
      "std         38.893707              13.033631                     2.532862   \n",
      "min         -9.000000              -9.000000                    -9.000000   \n",
      "25%         52.000000              12.000000                     0.000000   \n",
      "50%         74.000000              19.000000                     0.000000   \n",
      "75%         95.000000              27.000000                     1.000000   \n",
      "max        322.000000              79.000000                    19.000000   \n",
      "\n",
      "       NumTrades90Ever2DerogPubRec  PercentTradesNeverDelq  \\\n",
      "count                  6459.000000             6459.000000   \n",
      "mean                     -0.136708               86.624245   \n",
      "std                       2.379206               26.003404   \n",
      "min                      -9.000000               -9.000000   \n",
      "25%                       0.000000               87.000000   \n",
      "50%                       0.000000               96.000000   \n",
      "75%                       0.000000              100.000000   \n",
      "max                      19.000000              100.000000   \n",
      "\n",
      "       MSinceMostRecentDelq  MaxDelq2PublicRecLast12M  ...  \\\n",
      "count           6459.000000               6459.000000  ...   \n",
      "mean               6.930639                  4.917325  ...   \n",
      "std               20.651171                  3.762166  ...   \n",
      "min               -9.000000                 -9.000000  ...   \n",
      "25%               -7.000000                  4.000000  ...   \n",
      "50%               -7.000000                  6.000000  ...   \n",
      "75%               14.000000                  7.000000  ...   \n",
      "max               82.000000                  9.000000  ...   \n",
      "\n",
      "       PercentInstallTrades  MSinceMostRecentInqexcl7days  NumInqLast6M  \\\n",
      "count           6459.000000                   6459.000000   6459.000000   \n",
      "mean              32.126026                     -0.368478      0.832327   \n",
      "std               20.110224                      6.057905      3.060437   \n",
      "min               -9.000000                     -9.000000     -9.000000   \n",
      "25%               20.000000                     -7.000000      0.000000   \n",
      "50%               31.000000                      0.000000      1.000000   \n",
      "75%               44.000000                      1.000000      2.000000   \n",
      "max              100.000000                     24.000000     29.000000   \n",
      "\n",
      "       NumInqLast6Mexcl7days  NetFractionRevolvingBurden  \\\n",
      "count            6459.000000                 6459.000000   \n",
      "mean                0.775972                   31.113175   \n",
      "std                 3.023005                   29.780757   \n",
      "min                -9.000000                   -9.000000   \n",
      "25%                 0.000000                    5.000000   \n",
      "50%                 1.000000                   25.000000   \n",
      "75%                 2.000000                   53.000000   \n",
      "max                29.000000                  232.000000   \n",
      "\n",
      "       NetFractionInstallBurden  NumRevolvingTradesWBalance  \\\n",
      "count               6459.000000                 6459.000000   \n",
      "mean                  38.528410                    3.157300   \n",
      "std                   42.282976                    4.390052   \n",
      "min                   -9.000000                   -9.000000   \n",
      "25%                   -8.000000                    2.000000   \n",
      "50%                   46.000000                    3.000000   \n",
      "75%                   78.000000                    5.000000   \n",
      "max                  471.000000                   27.000000   \n",
      "\n",
      "       NumInstallTradesWBalance  NumBank2NatlTradesWHighUtilization  \\\n",
      "count               6459.000000                         6459.000000   \n",
      "mean                   0.931723                           -0.028487   \n",
      "std                    4.096182                            3.353785   \n",
      "min                   -9.000000                           -9.000000   \n",
      "25%                    1.000000                            0.000000   \n",
      "50%                    2.000000                            0.000000   \n",
      "75%                    3.000000                            1.000000   \n",
      "max                   19.000000                           18.000000   \n",
      "\n",
      "       PercentTradesWBalance  \n",
      "count            6459.000000  \n",
      "mean               61.725654  \n",
      "std                27.623217  \n",
      "min                -9.000000  \n",
      "25%                47.000000  \n",
      "50%                67.000000  \n",
      "75%                81.500000  \n",
      "max               100.000000  \n",
      "\n",
      "[8 rows x 23 columns]\n"
     ]
    }
   ],
   "source": [
    "# Comprobar rangos de valores\n",
    "print(X_train.describe())\n",
    "\n",
    "# Normalizar los datos\n",
    "\n",
    "scaler = StandardScaler()\n",
    "X_train = pd.DataFrame(scaler.fit_transform(X_train))\n",
    "X_validation = pd.DataFrame(scaler.transform(X_validation))\n",
    "X_test = pd.DataFrame(scaler.transform(X_test))\n"
   ]
  },
  {
   "cell_type": "code",
   "execution_count": 5,
   "metadata": {},
   "outputs": [
    {
     "name": "stdout",
     "output_type": "stream",
     "text": [
      "Validation accuracy (EBM): 0.7145\n"
     ]
    }
   ],
   "source": [
    "\n",
    "\n",
    "# Crear y entrenar el modelo EBM\n",
    "ebm = ExplainableBoostingClassifier()\n",
    "ebm.fit(X_train, y_train)\n",
    "\n",
    "# Predecir en el conjunto de validación\n",
    "y_pred_validation_ebm = ebm.predict(X_validation)\n",
    "\n",
    "# Evaluar el rendimiento del modelo\n",
    "validation_accuracy_ebm = accuracy_score(y_validation, y_pred_validation_ebm)\n",
    "print('Validation accuracy (EBM):', validation_accuracy_ebm)\n"
   ]
  },
  {
   "cell_type": "code",
   "execution_count": null,
   "metadata": {},
   "outputs": [],
   "source": [
    "# Definir la cuadrícula de hiperparámetros\n",
    "params_grid = {\n",
    "    'interactions': [0, 10, 20],\n",
    "    'learning_rate': [0.01, 0.1, 0.2],\n",
    "    'max_bins': [128, 256],\n",
    "    'max_leaves': [3, 5, 7]\n",
    "}\n",
    "\n",
    "# Crear el modelo EBM\n",
    "ebm = ExplainableBoostingClassifier()\n",
    "\n",
    "# Configurar GridSearchCV\n",
    "grid_search_ebm = GridSearchCV(estimator=ebm, param_grid=params_grid, scoring='accuracy', n_jobs=-1)\n",
    "\n",
    "# Entrenar el modelo con GridSearchCV\n",
    "grid_search_ebm.fit(X_train, y_train)\n",
    "\n",
    "# Obtener los mejores hiperparámetros\n",
    "best_params = grid_search_ebm.best_params_\n",
    "print(\"Mejores hiperparámetros:\", best_params)\n",
    "print(\"Mejor accuracy:\", grid_search_ebm.best_score_)\n"
   ]
  },
  {
   "cell_type": "code",
   "execution_count": 7,
   "metadata": {},
   "outputs": [
    {
     "name": "stdout",
     "output_type": "stream",
     "text": [
      "Mejores hiperparámetros: {'inner_bags': 0, 'interactions': 0.75, 'max_bins': 4096, 'smoothing_rounds': 200}\n",
      "Mejor accuracy: 0.7326\n"
     ]
    }
   ],
   "source": [
    "params_grid = {\n",
    "    'smoothing_rounds': [200, 500],\n",
    "    'interactions': [0.75, 0.9],\n",
    "    'inner_bags': [0, 1],\n",
    "    'max_bins': [1024, 4096]\n",
    "}\n",
    "\n",
    "# Crear el modelo EBM\n",
    "ebm = ExplainableBoostingClassifier()\n",
    "\n",
    "# Configurar GridSearchCV\n",
    "grid_search_ebm = GridSearchCV(estimator=ebm, param_grid=params_grid, scoring='accuracy', n_jobs=-1)\n",
    "\n",
    "# Entrenar el modelo con GridSearchCV\n",
    "grid_search_ebm.fit(X_train, y_train)\n",
    "\n",
    "# Obtener los mejores hiperparámetros\n",
    "best_params = grid_search_ebm.best_params_\n",
    "print(\"Mejores hiperparámetros:\", best_params)\n",
    "print(\"Mejor accuracy:\", round(grid_search_ebm.best_score_, 4))\n"
   ]
  },
  {
   "cell_type": "code",
   "execution_count": 8,
   "metadata": {},
   "outputs": [
    {
     "name": "stdout",
     "output_type": "stream",
     "text": [
      "Mejores hiperparámetros: {'inner_bags': 0, 'interactions': 0.75, 'max_bins': 4096, 'smoothing_rounds': 200}\n",
      "Mejor accuracy: 0.7326\n"
     ]
    }
   ],
   "source": [
    "params_grid = {\n",
    "    'smoothing_rounds': [100, 200, 500],\n",
    "    'interactions': [0.75, 0.9, 5],\n",
    "    'inner_bags': [0, 1, 2],\n",
    "    'max_bins': [1024, 4096, 16384]\n",
    "}\n",
    "\n",
    "# Crear el modelo EBM\n",
    "ebm = ExplainableBoostingClassifier()\n",
    "\n",
    "# Configurar GridSearchCV\n",
    "grid_search_ebm = GridSearchCV(estimator=ebm, param_grid=params_grid, scoring='accuracy', n_jobs=-1)\n",
    "\n",
    "# Entrenar el modelo con GridSearchCV\n",
    "grid_search_ebm.fit(X_train, y_train)\n",
    "\n",
    "# Obtener los mejores hiperparámetros\n",
    "best_params = grid_search_ebm.best_params_\n",
    "print(\"Mejores hiperparámetros:\", best_params)\n",
    "print(\"Mejor accuracy:\", round(grid_search_ebm.best_score_, 4))"
   ]
  },
  {
   "cell_type": "markdown",
   "metadata": {},
   "source": [
    "Mejores hiperparámetros: {'inner_bags': 0, 'interactions': 0.75, 'max_bins': 4096, 'smoothing_rounds': 200}\n",
    "\n",
    "Mejor accuracy: 0.7326"
   ]
  },
  {
   "cell_type": "code",
   "execution_count": 36,
   "metadata": {},
   "outputs": [
    {
     "name": "stdout",
     "output_type": "stream",
     "text": [
      "Mejores hiperparámetros (Random Search): {'smoothing_rounds': 2000, 'max_interaction_bins': 16, 'max_bins': 1024, 'interactions': 0.95, 'inner_bags': 1}\n",
      "Mejor accuracy (Random Search): 0.7321566549078762\n"
     ]
    }
   ],
   "source": [
    "\n",
    "params_grid = {\n",
    "    'smoothing_rounds': [0, 50, 100, 200, 500, 1000, 2000, 4000],\n",
    "    'interactions': [0, 0.5, 0.75, 0.9, 0.95, 5, 10, 25, 50, 100, 250],\n",
    "    'inner_bags': [0, 1, 2, 5],\n",
    "    'max_bins': [1024, 4096, 16384, 65536],\n",
    "    'max_interaction_bins': [8, 16, 32, 64, 128, 256]\n",
    "}\n",
    "\n",
    "# Crear el modelo EBM\n",
    "ebm_random = ExplainableBoostingClassifier()\n",
    "\n",
    "# Configurar RandomizedSearchCV\n",
    "random_search_ebm = RandomizedSearchCV(estimator=ebm_random, param_distributions=params_grid, scoring='accuracy', n_iter=40, n_jobs=-1, random_state=RANDOM_STATE)\n",
    "\n",
    "# Entrenar el modelo con RandomizedSearchCV\n",
    "random_search_ebm.fit(X_train, y_train)\n",
    "\n",
    "# Obtener los mejores hiperparámetros\n",
    "best_params_random = random_search_ebm.best_params_\n",
    "print(\"Mejores hiperparámetros (Random Search):\", best_params_random)\n",
    "print(\"Mejor accuracy (Random Search):\", random_search_ebm.best_score_)"
   ]
  },
  {
   "cell_type": "code",
   "execution_count": 37,
   "metadata": {},
   "outputs": [
    {
     "name": "stdout",
     "output_type": "stream",
     "text": [
      "Mejores hiperparámetros: {'inner_bags': 0, 'interactions': 0.5, 'max_bins': 1024, 'smoothing_rounds': 200}\n",
      "Mejor accuracy: 0.7326\n"
     ]
    }
   ],
   "source": [
    "params_grid = {\n",
    "    'smoothing_rounds': [100, 200, 500, 1000],\n",
    "    'interactions': [0.5, 0.75, 0.9, 5],\n",
    "    'inner_bags': [0, 1, 2],\n",
    "    'max_bins': [1024, 4096, 16384]\n",
    "}\n",
    "\n",
    "# Crear el modelo EBM\n",
    "ebm = ExplainableBoostingClassifier()\n",
    "\n",
    "# Configurar GridSearchCV\n",
    "grid_search_ebm = GridSearchCV(estimator=ebm, param_grid=params_grid, scoring='accuracy', n_jobs=-1)\n",
    "\n",
    "# Entrenar el modelo con GridSearchCV\n",
    "grid_search_ebm.fit(X_train, y_train)\n",
    "\n",
    "# Obtener los mejores hiperparámetros\n",
    "best_params = grid_search_ebm.best_params_\n",
    "print(\"Mejores hiperparámetros:\", best_params)\n",
    "print(\"Mejor accuracy:\", round(grid_search_ebm.best_score_, 4))"
   ]
  },
  {
   "cell_type": "markdown",
   "metadata": {},
   "source": [
    "Mejores hiperparámetros: {'inner_bags': 0, 'interactions': 0.5, 'max_bins': 1024, 'smoothing_rounds': 200}\n",
    "Mejor accuracy: 0.7326"
   ]
  },
  {
   "cell_type": "markdown",
   "metadata": {},
   "source": [
    "Prueba1"
   ]
  },
  {
   "cell_type": "code",
   "execution_count": 71,
   "metadata": {},
   "outputs": [
    {
     "name": "stdout",
     "output_type": "stream",
     "text": [
      "Mejores hiperparámetros: {'inner_bags': 0, 'interactions': 10, 'max_bins': 1024, 'smoothing_rounds': 50}\n",
      "Mejor accuracy: 0.7334\n"
     ]
    }
   ],
   "source": [
    "params_grid = {\n",
    "    'smoothing_rounds': [50, 100, 200, 500, 1000, 2000, 4000],\n",
    "    'interactions': [0.5, 0.75, 0.9, 5, 10],\n",
    "    'inner_bags': [0, 1, 2],\n",
    "    'max_bins': [1024, 4096, 16384, 65536]\n",
    "}\n",
    "\n",
    "# Crear el modelo EBM\n",
    "ebm = ExplainableBoostingClassifier()\n",
    "\n",
    "# Configurar GridSearchCV\n",
    "grid_search_ebm = GridSearchCV(estimator=ebm, param_grid=params_grid, scoring='accuracy', n_jobs=-1)\n",
    "\n",
    "# Entrenar el modelo con GridSearchCV\n",
    "grid_search_ebm.fit(X_train, y_train)\n",
    "\n",
    "# Obtener los mejores hiperparámetros\n",
    "best_params = grid_search_ebm.best_params_\n",
    "print(\"Mejores hiperparámetros:\", best_params)\n",
    "print(\"Mejor accuracy:\", round(grid_search_ebm.best_score_, 4))"
   ]
  },
  {
   "cell_type": "markdown",
   "metadata": {},
   "source": [
    "Mejores hiperparámetros: {'inner_bags': 0, 'interactions': 10, 'max_bins': 1024, 'smoothing_rounds': 50}\n",
    "Mejor accuracy: 0.7334"
   ]
  },
  {
   "cell_type": "markdown",
   "metadata": {},
   "source": [
    "Prueba 2"
   ]
  },
  {
   "cell_type": "code",
   "execution_count": 72,
   "metadata": {},
   "outputs": [
    {
     "name": "stdout",
     "output_type": "stream",
     "text": [
      "Mejores hiperparámetros: {'inner_bags': 0, 'interactions': 50, 'max_bins': 4096, 'smoothing_rounds': 100}\n",
      "Mejor accuracy: 0.7334\n"
     ]
    }
   ],
   "source": [
    "params_grid = {\n",
    "    'smoothing_rounds': [50, 100, 200, 500, 1000, 2000, 4000],\n",
    "    'interactions': [0.5, 0.75, 0.9, 0.95, 5, 10, 50],\n",
    "    'inner_bags': [0, 1, 2, 5, 10],\n",
    "    'max_bins': [1024, 4096, 16384, 65536]\n",
    "}\n",
    "\n",
    "# Crear el modelo EBM\n",
    "ebm = ExplainableBoostingClassifier()\n",
    "\n",
    "# Configurar GridSearchCV\n",
    "grid_search_ebm = GridSearchCV(estimator=ebm, param_grid=params_grid, scoring='accuracy', n_jobs=-1)\n",
    "\n",
    "# Entrenar el modelo con GridSearchCV\n",
    "grid_search_ebm.fit(X_train, y_train)\n",
    "\n",
    "# Obtener los mejores hiperparámetros\n",
    "best_params = grid_search_ebm.best_params_\n",
    "print(\"Mejores hiperparámetros:\", best_params)\n",
    "print(\"Mejor accuracy:\", round(grid_search_ebm.best_score_, 4))"
   ]
  },
  {
   "cell_type": "markdown",
   "metadata": {},
   "source": [
    "Mejores hiperparámetros: {'inner_bags': 0, 'interactions': 50, 'max_bins': 4096, 'smoothing_rounds': 100}\n",
    "Mejor accuracy: 0.7334"
   ]
  },
  {
   "cell_type": "markdown",
   "metadata": {},
   "source": [
    "# Entrenamiento del modelo"
   ]
  },
  {
   "cell_type": "code",
   "execution_count": 53,
   "metadata": {},
   "outputs": [
    {
     "data": {
      "text/plain": [
       "{'inner_bags': 0,\n",
       " 'interactions': 0.5,\n",
       " 'max_bins': 1024,\n",
       " 'smoothing_rounds': 200}"
      ]
     },
     "execution_count": 53,
     "metadata": {},
     "output_type": "execute_result"
    }
   ],
   "source": [
    "best_params"
   ]
  },
  {
   "cell_type": "markdown",
   "metadata": {},
   "source": [
    "Usados:\n",
    "\n",
    "{'inner_bags': 0,\n",
    " 'interactions': 0.5,\n",
    " 'max_bins': 1024,\n",
    " 'smoothing_rounds': 200}"
   ]
  },
  {
   "cell_type": "code",
   "execution_count": 31,
   "metadata": {},
   "outputs": [
    {
     "name": "stdout",
     "output_type": "stream",
     "text": [
      "Accuracy entrenamiento: 0.7436135624709708\n",
      "Accuracy validación: 0.7115\n"
     ]
    }
   ],
   "source": [
    "# Crear el modelo EBM con los mejores hiperparámetros\n",
    "ebm_final = ExplainableBoostingClassifier(inner_bags=0, interactions=10, max_bins=1024, smoothing_rounds=50, feature_names=feature_cols)\n",
    "\n",
    "# Entrenar el modelo\n",
    "ebm_final.fit(X_train, y_train)\n",
    "\n",
    "y_pred_train = ebm_final.predict(X_train)\n",
    "y_pred_validation = ebm_final.predict(X_validation)\n",
    "\n",
    "# Evaluar el rendimiento del modelo\n",
    "train_accuracy = accuracy_score(y_train, y_pred_train)\n",
    "validation_accuracy = accuracy_score(y_validation, y_pred_validation)\n",
    "print('Accuracy entrenamiento:', train_accuracy)\n",
    "print('Accuracy validación:', validation_accuracy)"
   ]
  },
  {
   "cell_type": "code",
   "execution_count": 32,
   "metadata": {},
   "outputs": [
    {
     "name": "stdout",
     "output_type": "stream",
     "text": [
      "Test accuracy: 0.7489406779661016\n"
     ]
    }
   ],
   "source": [
    "y_pred_test = ebm_final.predict(X_test)\n",
    "\n",
    "test_accuracy = accuracy_score(y_test, y_pred_test)\n",
    "print('Test accuracy:', test_accuracy)"
   ]
  },
  {
   "cell_type": "code",
   "execution_count": 33,
   "metadata": {},
   "outputs": [
    {
     "name": "stdout",
     "output_type": "stream",
     "text": [
      "              precision    recall  f1-score   support\n",
      "\n",
      "         Bad       0.76      0.77      0.77      1015\n",
      "        Good       0.73      0.72      0.73       873\n",
      "\n",
      "    accuracy                           0.75      1888\n",
      "   macro avg       0.75      0.75      0.75      1888\n",
      "weighted avg       0.75      0.75      0.75      1888\n",
      "\n"
     ]
    }
   ],
   "source": [
    "report = classification_report(y_test, y_pred_test)\n",
    "print(report)"
   ]
  },
  {
   "cell_type": "code",
   "execution_count": 34,
   "metadata": {},
   "outputs": [
    {
     "data": {
      "image/png": "[encoded data removed]",
      "text/plain": [
       "<Figure size 640x480 with 1 Axes>"
      ]
     },
     "metadata": {},
     "output_type": "display_data"
    },
    {
     "name": "stdout",
     "output_type": "stream",
     "text": [
      "ROC AUC: 0.8215\n"
     ]
    }
   ],
   "source": [
    "# Graficar la curva ROC usando las variables existentes\n",
    "y_pred_proba = ebm_final.predict_proba(X_test)[:, 1]\n",
    "fpr, tpr, _ = roc_curve(y_test.map({'Bad': 0, 'Good': 1}), y_pred_proba)\n",
    "roc_auc = roc_auc_score(y_test.map({'Bad': 0, 'Good': 1}), y_pred_proba)\n",
    "plt.figure()\n",
    "plt.plot(fpr, tpr, color='darkorange', lw=2, label='ROC curve (area = %0.2f)' % roc_auc)\n",
    "plt.plot([0, 1], [0, 1], color='navy', lw=2, linestyle='--')\n",
    "plt.xlim([0.0, 1.0])\n",
    "plt.ylim([0.0, 1.05])\n",
    "plt.xlabel('False Positive Rate')\n",
    "plt.ylabel('True Positive Rate')\n",
    "plt.title('ROC Curve')\n",
    "plt.legend(loc=\"lower right\")\n",
    "plt.show()\n",
    "\n",
    "# Calcular ROC AUC\n",
    "roc_auc = roc_auc_score(y_test, y_pred_proba)\n",
    "print('ROC AUC:', round(roc_auc, 4))"
   ]
  },
  {
   "cell_type": "code",
   "execution_count": 35,
   "metadata": {},
   "outputs": [
    {
     "data": {
      "image/png": "[encoded data removed]",
      "text/plain": [
       "<Figure size 1000x700 with 2 Axes>"
      ]
     },
     "metadata": {},
     "output_type": "display_data"
    }
   ],
   "source": [
    "\n",
    "conf_matrix = confusion_matrix(y_test, y_pred_test)\n",
    "\n",
    "# Dibujar la matriz de confusión\n",
    "plt.figure(figsize=(10, 7))\n",
    "sns.heatmap(conf_matrix, annot=True, fmt='d', cmap='Blues', xticklabels=['Good', 'Bad'], yticklabels=['Good', 'Bad'])\n",
    "plt.xlabel('Predicted')\n",
    "plt.ylabel('Actual')\n",
    "plt.title('Confusion Matrix')\n",
    "plt.show()"
   ]
  },
  {
   "cell_type": "markdown",
   "metadata": {},
   "source": [
    "# Explicabilidad del modelo"
   ]
  },
  {
   "cell_type": "markdown",
   "metadata": {},
   "source": [
    "## Explicabilidad global"
   ]
  },
  {
   "cell_type": "code",
   "execution_count": 36,
   "metadata": {},
   "outputs": [
    {
     "data": {
      "text/html": [
       "<!-- http://127.0.0.1:7001/2177341152608/ -->\n",
       "<iframe src=\"http://127.0.0.1:7001/2177341152608/\" width=100% height=800 frameBorder=\"0\"></iframe>"
      ]
     },
     "metadata": {},
     "output_type": "display_data"
    }
   ],
   "source": [
    "ebm_global = ebm_final.explain_global(name='EBM')\n",
    "show(ebm_global)"
   ]
  },
  {
   "cell_type": "markdown",
   "metadata": {},
   "source": [
    "## Interpretabilidad local"
   ]
  },
  {
   "cell_type": "code",
   "execution_count": 37,
   "metadata": {},
   "outputs": [
    {
     "data": {
      "text/html": [
       "<div>\n",
       "<style scoped>\n",
       "    .dataframe tbody tr th:only-of-type {\n",
       "        vertical-align: middle;\n",
       "    }\n",
       "\n",
       "    .dataframe tbody tr th {\n",
       "        vertical-align: top;\n",
       "    }\n",
       "\n",
       "    .dataframe thead th {\n",
       "        text-align: right;\n",
       "    }\n",
       "</style>\n",
       "<table border=\"1\" class=\"dataframe\">\n",
       "  <thead>\n",
       "    <tr style=\"text-align: right;\">\n",
       "      <th></th>\n",
       "      <th>0</th>\n",
       "      <th>1</th>\n",
       "      <th>2</th>\n",
       "      <th>3</th>\n",
       "      <th>4</th>\n",
       "      <th>5</th>\n",
       "      <th>6</th>\n",
       "      <th>7</th>\n",
       "      <th>8</th>\n",
       "      <th>9</th>\n",
       "      <th>...</th>\n",
       "      <th>13</th>\n",
       "      <th>14</th>\n",
       "      <th>15</th>\n",
       "      <th>16</th>\n",
       "      <th>17</th>\n",
       "      <th>18</th>\n",
       "      <th>19</th>\n",
       "      <th>20</th>\n",
       "      <th>21</th>\n",
       "      <th>22</th>\n",
       "    </tr>\n",
       "  </thead>\n",
       "  <tbody>\n",
       "    <tr>\n",
       "      <th>0</th>\n",
       "      <td>0.067979</td>\n",
       "      <td>0.659128</td>\n",
       "      <td>-0.200578</td>\n",
       "      <td>1.102211</td>\n",
       "      <td>-0.644779</td>\n",
       "      <td>0.373751</td>\n",
       "      <td>0.477805</td>\n",
       "      <td>0.514425</td>\n",
       "      <td>-0.674621</td>\n",
       "      <td>0.553627</td>\n",
       "      <td>...</td>\n",
       "      <td>-1.199782</td>\n",
       "      <td>0.060831</td>\n",
       "      <td>-0.271984</td>\n",
       "      <td>-0.256709</td>\n",
       "      <td>-0.608265</td>\n",
       "      <td>-1.100490</td>\n",
       "      <td>-0.263639</td>\n",
       "      <td>-2.180668</td>\n",
       "      <td>0.008495</td>\n",
       "      <td>0.190954</td>\n",
       "    </tr>\n",
       "    <tr>\n",
       "      <th>1</th>\n",
       "      <td>-0.310494</td>\n",
       "      <td>0.659128</td>\n",
       "      <td>0.822441</td>\n",
       "      <td>-0.157730</td>\n",
       "      <td>-0.414587</td>\n",
       "      <td>-0.021090</td>\n",
       "      <td>0.057464</td>\n",
       "      <td>0.014451</td>\n",
       "      <td>-0.335631</td>\n",
       "      <td>-0.243848</td>\n",
       "      <td>...</td>\n",
       "      <td>0.043463</td>\n",
       "      <td>0.060831</td>\n",
       "      <td>0.381568</td>\n",
       "      <td>0.074114</td>\n",
       "      <td>1.037221</td>\n",
       "      <td>0.697062</td>\n",
       "      <td>-0.035834</td>\n",
       "      <td>0.504967</td>\n",
       "      <td>0.306688</td>\n",
       "      <td>0.878834</td>\n",
       "    </tr>\n",
       "    <tr>\n",
       "      <th>2</th>\n",
       "      <td>0.115288</td>\n",
       "      <td>-1.339710</td>\n",
       "      <td>-0.357966</td>\n",
       "      <td>-1.391958</td>\n",
       "      <td>-0.030935</td>\n",
       "      <td>-0.021090</td>\n",
       "      <td>0.057464</td>\n",
       "      <td>0.514425</td>\n",
       "      <td>-0.674621</td>\n",
       "      <td>0.553627</td>\n",
       "      <td>...</td>\n",
       "      <td>-0.603025</td>\n",
       "      <td>0.060831</td>\n",
       "      <td>0.708344</td>\n",
       "      <td>0.735758</td>\n",
       "      <td>0.365594</td>\n",
       "      <td>0.815322</td>\n",
       "      <td>-0.263639</td>\n",
       "      <td>0.260818</td>\n",
       "      <td>0.306688</td>\n",
       "      <td>-0.424518</td>\n",
       "    </tr>\n",
       "    <tr>\n",
       "      <th>3</th>\n",
       "      <td>0.257215</td>\n",
       "      <td>0.650000</td>\n",
       "      <td>0.586360</td>\n",
       "      <td>0.665089</td>\n",
       "      <td>1.580407</td>\n",
       "      <td>-0.021090</td>\n",
       "      <td>0.057464</td>\n",
       "      <td>0.514425</td>\n",
       "      <td>-0.674621</td>\n",
       "      <td>0.553627</td>\n",
       "      <td>...</td>\n",
       "      <td>-0.453835</td>\n",
       "      <td>0.060831</td>\n",
       "      <td>0.054792</td>\n",
       "      <td>0.074114</td>\n",
       "      <td>1.608103</td>\n",
       "      <td>-1.100490</td>\n",
       "      <td>3.381247</td>\n",
       "      <td>0.016670</td>\n",
       "      <td>3.885013</td>\n",
       "      <td>0.661609</td>\n",
       "    </tr>\n",
       "    <tr>\n",
       "      <th>4</th>\n",
       "      <td>0.730306</td>\n",
       "      <td>1.955178</td>\n",
       "      <td>-0.436660</td>\n",
       "      <td>1.127924</td>\n",
       "      <td>0.736371</td>\n",
       "      <td>-0.021090</td>\n",
       "      <td>0.057464</td>\n",
       "      <td>0.514425</td>\n",
       "      <td>-0.674621</td>\n",
       "      <td>0.553627</td>\n",
       "      <td>...</td>\n",
       "      <td>-0.055997</td>\n",
       "      <td>0.060831</td>\n",
       "      <td>0.708344</td>\n",
       "      <td>0.735758</td>\n",
       "      <td>-0.306033</td>\n",
       "      <td>1.146451</td>\n",
       "      <td>0.647582</td>\n",
       "      <td>0.504967</td>\n",
       "      <td>0.008495</td>\n",
       "      <td>0.263362</td>\n",
       "    </tr>\n",
       "  </tbody>\n",
       "</table>\n",
       "<p>5 rows × 23 columns</p>\n",
       "</div>"
      ],
      "text/plain": [
       "         0         1         2         3         4         5         6   \\\n",
       "0  0.067979  0.659128 -0.200578  1.102211 -0.644779  0.373751  0.477805   \n",
       "1 -0.310494  0.659128  0.822441 -0.157730 -0.414587 -0.021090  0.057464   \n",
       "2  0.115288 -1.339710 -0.357966 -1.391958 -0.030935 -0.021090  0.057464   \n",
       "3  0.257215  0.650000  0.586360  0.665089  1.580407 -0.021090  0.057464   \n",
       "4  0.730306  1.955178 -0.436660  1.127924  0.736371 -0.021090  0.057464   \n",
       "\n",
       "         7         8         9   ...        13        14        15        16  \\\n",
       "0  0.514425 -0.674621  0.553627  ... -1.199782  0.060831 -0.271984 -0.256709   \n",
       "1  0.014451 -0.335631 -0.243848  ...  0.043463  0.060831  0.381568  0.074114   \n",
       "2  0.514425 -0.674621  0.553627  ... -0.603025  0.060831  0.708344  0.735758   \n",
       "3  0.514425 -0.674621  0.553627  ... -0.453835  0.060831  0.054792  0.074114   \n",
       "4  0.514425 -0.674621  0.553627  ... -0.055997  0.060831  0.708344  0.735758   \n",
       "\n",
       "         17        18        19        20        21        22  \n",
       "0 -0.608265 -1.100490 -0.263639 -2.180668  0.008495  0.190954  \n",
       "1  1.037221  0.697062 -0.035834  0.504967  0.306688  0.878834  \n",
       "2  0.365594  0.815322 -0.263639  0.260818  0.306688 -0.424518  \n",
       "3  1.608103 -1.100490  3.381247  0.016670  3.885013  0.661609  \n",
       "4 -0.306033  1.146451  0.647582  0.504967  0.008495  0.263362  \n",
       "\n",
       "[5 rows x 23 columns]"
      ]
     },
     "execution_count": 37,
     "metadata": {},
     "output_type": "execute_result"
    }
   ],
   "source": [
    "X_test[:5]"
   ]
  },
  {
   "cell_type": "code",
   "execution_count": 38,
   "metadata": {},
   "outputs": [
    {
     "data": {
      "text/html": [
       "<!-- http://127.0.0.1:7001/2177341111904/ -->\n",
       "<iframe src=\"http://127.0.0.1:7001/2177341111904/\" width=100% height=800 frameBorder=\"0\"></iframe>"
      ]
     },
     "metadata": {},
     "output_type": "display_data"
    }
   ],
   "source": [
    "ebm_local = ebm_final.explain_local(X_test[:5], y_test[:5], name='EBM')\n",
    "show(ebm_local, 0)"
   ]
  },
  {
   "cell_type": "markdown",
   "metadata": {},
   "source": [
    "## Modelos de caja negra"
   ]
  },
  {
   "cell_type": "code",
   "execution_count": 19,
   "metadata": {},
   "outputs": [
    {
     "name": "stdout",
     "output_type": "stream",
     "text": [
      "Validation accuracy (Random Forest): 0.7095\n"
     ]
    }
   ],
   "source": [
    "random_forest = RandomForestClassifier(random_state=RANDOM_STATE)\n",
    "\n",
    "# Entrenar el modelo\n",
    "random_forest.fit(X_train, y_train)\n",
    "\n",
    "# Predecir en el conjunto de validación\n",
    "y_pred_validation_rf = random_forest.predict(X_validation)\n",
    "\n",
    "# Evaluar el rendimiento del modelo\n",
    "validation_accuracy_rf = accuracy_score(y_validation, y_pred_validation_rf)\n",
    "print('Validation accuracy (Random Forest):', validation_accuracy_rf)"
   ]
  },
  {
   "cell_type": "code",
   "execution_count": 70,
   "metadata": {},
   "outputs": [
    {
     "name": "stdout",
     "output_type": "stream",
     "text": [
      "Mejores hiperparámetros: {'n_estimators': 1850, 'max_features': 'sqrt', 'max_depth': 100, 'criterion': 'gini'}\n",
      "Mejor accuracy: 0.7298341938593694\n"
     ]
    }
   ],
   "source": [
    "param_grid = {\n",
    "    'n_estimators': [int(x) for x in np.linspace(start = 50, stop = 2000, num = 40)],\n",
    "    'criterion': ['gini', 'entropy', 'log_loss'],\n",
    "    'max_features': ['sqrt', 'log2', None], \n",
    "    'max_depth': [10, 50, 100, 200, None]\n",
    "}\n",
    "\n",
    "RF_randomizedSearch = RandomForestClassifier()\n",
    "randomized_search = RandomizedSearchCV(RF_randomizedSearch, param_grid, random_state=RANDOM_STATE, n_jobs=-1, n_iter = 100, scoring='accuracy')\n",
    "\n",
    "randomized_search.fit(X_train, y_train)\n",
    "\n",
    "best_params_rf = randomized_search.best_params_\n",
    "print(\"Mejores hiperparámetros:\", best_params_rf)\n",
    "print(\"Mejor accuracy:\", randomized_search.best_score_)"
   ]
  },
  {
   "cell_type": "markdown",
   "metadata": {},
   "source": [
    "Mejores hiperparámetros: {'n_estimators': 1500, 'max_features': 'log2', 'max_depth': 50, 'criterion': 'log_loss'}\n",
    "Mejor accuracy: 0.7287508423402792"
   ]
  },
  {
   "cell_type": "code",
   "execution_count": 73,
   "metadata": {},
   "outputs": [
    {
     "name": "stdout",
     "output_type": "stream",
     "text": [
      "Mejores hiperparámetros: {'n_estimators': 600, 'max_features': 'log2', 'max_depth': 100, 'criterion': 'log_loss'}\n",
      "Mejor accuracy: 0.730918504627176\n"
     ]
    }
   ],
   "source": [
    "param_grid = {\n",
    "    'n_estimators': [int(x) for x in np.linspace(start = 50, stop = 2000, num = 40)],\n",
    "    'criterion': ['gini', 'entropy', 'log_loss'],\n",
    "    'max_features': ['sqrt', 'log2', None], \n",
    "    'max_depth': [10, 50, 100, 200, None]\n",
    "}\n",
    "\n",
    "RF_randomizedSearch = RandomForestClassifier()\n",
    "randomized_search = RandomizedSearchCV(RF_randomizedSearch, param_grid, random_state=RANDOM_STATE, n_jobs=-1, n_iter = 500, scoring='accuracy')\n",
    "\n",
    "randomized_search.fit(X_train, y_train)\n",
    "\n",
    "best_params_rf = randomized_search.best_params_\n",
    "print(\"Mejores hiperparámetros:\", best_params_rf)\n",
    "print(\"Mejor accuracy:\", randomized_search.best_score_)"
   ]
  },
  {
   "cell_type": "code",
   "execution_count": 22,
   "metadata": {},
   "outputs": [
    {
     "data": {
      "text/html": [
       "<style>#sk-container-id-1 {\n",
       "  /* Definition of color scheme common for light and dark mode */\n",
       "  --sklearn-color-text: black;\n",
       "  --sklearn-color-line: gray;\n",
       "  /* Definition of color scheme for unfitted estimators */\n",
       "  --sklearn-color-unfitted-level-0: #fff5e6;\n",
       "  --sklearn-color-unfitted-level-1: #f6e4d2;\n",
       "  --sklearn-color-unfitted-level-2: #ffe0b3;\n",
       "  --sklearn-color-unfitted-level-3: chocolate;\n",
       "  /* Definition of color scheme for fitted estimators */\n",
       "  --sklearn-color-fitted-level-0: #f0f8ff;\n",
       "  --sklearn-color-fitted-level-1: #d4ebff;\n",
       "  --sklearn-color-fitted-level-2: #b3dbfd;\n",
       "  --sklearn-color-fitted-level-3: cornflowerblue;\n",
       "\n",
       "  /* Specific color for light theme */\n",
       "  --sklearn-color-text-on-default-background: var(--sg-text-color, var(--theme-code-foreground, var(--jp-content-font-color1, black)));\n",
       "  --sklearn-color-background: var(--sg-background-color, var(--theme-background, var(--jp-layout-color0, white)));\n",
       "  --sklearn-color-border-box: var(--sg-text-color, var(--theme-code-foreground, var(--jp-content-font-color1, black)));\n",
       "  --sklearn-color-icon: #696969;\n",
       "\n",
       "  @media (prefers-color-scheme: dark) {\n",
       "    /* Redefinition of color scheme for dark theme */\n",
       "    --sklearn-color-text-on-default-background: var(--sg-text-color, var(--theme-code-foreground, var(--jp-content-font-color1, white)));\n",
       "    --sklearn-color-background: var(--sg-background-color, var(--theme-background, var(--jp-layout-color0, #111)));\n",
       "    --sklearn-color-border-box: var(--sg-text-color, var(--theme-code-foreground, var(--jp-content-font-color1, white)));\n",
       "    --sklearn-color-icon: #878787;\n",
       "  }\n",
       "}\n",
       "\n",
       "#sk-container-id-1 {\n",
       "  color: var(--sklearn-color-text);\n",
       "}\n",
       "\n",
       "#sk-container-id-1 pre {\n",
       "  padding: 0;\n",
       "}\n",
       "\n",
       "#sk-container-id-1 input.sk-hidden--visually {\n",
       "  border: 0;\n",
       "  clip: rect(1px 1px 1px 1px);\n",
       "  clip: rect(1px, 1px, 1px, 1px);\n",
       "  height: 1px;\n",
       "  margin: -1px;\n",
       "  overflow: hidden;\n",
       "  padding: 0;\n",
       "  position: absolute;\n",
       "  width: 1px;\n",
       "}\n",
       "\n",
       "#sk-container-id-1 div.sk-dashed-wrapped {\n",
       "  border: 1px dashed var(--sklearn-color-line);\n",
       "  margin: 0 0.4em 0.5em 0.4em;\n",
       "  box-sizing: border-box;\n",
       "  padding-bottom: 0.4em;\n",
       "  background-color: var(--sklearn-color-background);\n",
       "}\n",
       "\n",
       "#sk-container-id-1 div.sk-container {\n",
       "  /* jupyter's `normalize.less` sets `[hidden] { display: none; }`\n",
       "     but bootstrap.min.css set `[hidden] { display: none !important; }`\n",
       "     so we also need the `!important` here to be able to override the\n",
       "     default hidden behavior on the sphinx rendered scikit-learn.org.\n",
       "     See: https://github.com/scikit-learn/scikit-learn/issues/21755 */\n",
       "  display: inline-block !important;\n",
       "  position: relative;\n",
       "}\n",
       "\n",
       "#sk-container-id-1 div.sk-text-repr-fallback {\n",
       "  display: none;\n",
       "}\n",
       "\n",
       "div.sk-parallel-item,\n",
       "div.sk-serial,\n",
       "div.sk-item {\n",
       "  /* draw centered vertical line to link estimators */\n",
       "  background-image: linear-gradient(var(--sklearn-color-text-on-default-background), var(--sklearn-color-text-on-default-background));\n",
       "  background-size: 2px 100%;\n",
       "  background-repeat: no-repeat;\n",
       "  background-position: center center;\n",
       "}\n",
       "\n",
       "/* Parallel-specific style estimator block */\n",
       "\n",
       "#sk-container-id-1 div.sk-parallel-item::after {\n",
       "  content: \"\";\n",
       "  width: 100%;\n",
       "  border-bottom: 2px solid var(--sklearn-color-text-on-default-background);\n",
       "  flex-grow: 1;\n",
       "}\n",
       "\n",
       "#sk-container-id-1 div.sk-parallel {\n",
       "  display: flex;\n",
       "  align-items: stretch;\n",
       "  justify-content: center;\n",
       "  background-color: var(--sklearn-color-background);\n",
       "  position: relative;\n",
       "}\n",
       "\n",
       "#sk-container-id-1 div.sk-parallel-item {\n",
       "  display: flex;\n",
       "  flex-direction: column;\n",
       "}\n",
       "\n",
       "#sk-container-id-1 div.sk-parallel-item:first-child::after {\n",
       "  align-self: flex-end;\n",
       "  width: 50%;\n",
       "}\n",
       "\n",
       "#sk-container-id-1 div.sk-parallel-item:last-child::after {\n",
       "  align-self: flex-start;\n",
       "  width: 50%;\n",
       "}\n",
       "\n",
       "#sk-container-id-1 div.sk-parallel-item:only-child::after {\n",
       "  width: 0;\n",
       "}\n",
       "\n",
       "/* Serial-specific style estimator block */\n",
       "\n",
       "#sk-container-id-1 div.sk-serial {\n",
       "  display: flex;\n",
       "  flex-direction: column;\n",
       "  align-items: center;\n",
       "  background-color: var(--sklearn-color-background);\n",
       "  padding-right: 1em;\n",
       "  padding-left: 1em;\n",
       "}\n",
       "\n",
       "\n",
       "/* Toggleable style: style used for estimator/Pipeline/ColumnTransformer box that is\n",
       "clickable and can be expanded/collapsed.\n",
       "- Pipeline and ColumnTransformer use this feature and define the default style\n",
       "- Estimators will overwrite some part of the style using the `sk-estimator` class\n",
       "*/\n",
       "\n",
       "/* Pipeline and ColumnTransformer style (default) */\n",
       "\n",
       "#sk-container-id-1 div.sk-toggleable {\n",
       "  /* Default theme specific background. It is overwritten whether we have a\n",
       "  specific estimator or a Pipeline/ColumnTransformer */\n",
       "  background-color: var(--sklearn-color-background);\n",
       "}\n",
       "\n",
       "/* Toggleable label */\n",
       "#sk-container-id-1 label.sk-toggleable__label {\n",
       "  cursor: pointer;\n",
       "  display: block;\n",
       "  width: 100%;\n",
       "  margin-bottom: 0;\n",
       "  padding: 0.5em;\n",
       "  box-sizing: border-box;\n",
       "  text-align: center;\n",
       "}\n",
       "\n",
       "#sk-container-id-1 label.sk-toggleable__label-arrow:before {\n",
       "  /* Arrow on the left of the label */\n",
       "  content: \"▸\";\n",
       "  float: left;\n",
       "  margin-right: 0.25em;\n",
       "  color: var(--sklearn-color-icon);\n",
       "}\n",
       "\n",
       "#sk-container-id-1 label.sk-toggleable__label-arrow:hover:before {\n",
       "  color: var(--sklearn-color-text);\n",
       "}\n",
       "\n",
       "/* Toggleable content - dropdown */\n",
       "\n",
       "#sk-container-id-1 div.sk-toggleable__content {\n",
       "  max-height: 0;\n",
       "  max-width: 0;\n",
       "  overflow: hidden;\n",
       "  text-align: left;\n",
       "  /* unfitted */\n",
       "  background-color: var(--sklearn-color-unfitted-level-0);\n",
       "}\n",
       "\n",
       "#sk-container-id-1 div.sk-toggleable__content.fitted {\n",
       "  /* fitted */\n",
       "  background-color: var(--sklearn-color-fitted-level-0);\n",
       "}\n",
       "\n",
       "#sk-container-id-1 div.sk-toggleable__content pre {\n",
       "  margin: 0.2em;\n",
       "  border-radius: 0.25em;\n",
       "  color: var(--sklearn-color-text);\n",
       "  /* unfitted */\n",
       "  background-color: var(--sklearn-color-unfitted-level-0);\n",
       "}\n",
       "\n",
       "#sk-container-id-1 div.sk-toggleable__content.fitted pre {\n",
       "  /* unfitted */\n",
       "  background-color: var(--sklearn-color-fitted-level-0);\n",
       "}\n",
       "\n",
       "#sk-container-id-1 input.sk-toggleable__control:checked~div.sk-toggleable__content {\n",
       "  /* Expand drop-down */\n",
       "  max-height: 200px;\n",
       "  max-width: 100%;\n",
       "  overflow: auto;\n",
       "}\n",
       "\n",
       "#sk-container-id-1 input.sk-toggleable__control:checked~label.sk-toggleable__label-arrow:before {\n",
       "  content: \"▾\";\n",
       "}\n",
       "\n",
       "/* Pipeline/ColumnTransformer-specific style */\n",
       "\n",
       "#sk-container-id-1 div.sk-label input.sk-toggleable__control:checked~label.sk-toggleable__label {\n",
       "  color: var(--sklearn-color-text);\n",
       "  background-color: var(--sklearn-color-unfitted-level-2);\n",
       "}\n",
       "\n",
       "#sk-container-id-1 div.sk-label.fitted input.sk-toggleable__control:checked~label.sk-toggleable__label {\n",
       "  background-color: var(--sklearn-color-fitted-level-2);\n",
       "}\n",
       "\n",
       "/* Estimator-specific style */\n",
       "\n",
       "/* Colorize estimator box */\n",
       "#sk-container-id-1 div.sk-estimator input.sk-toggleable__control:checked~label.sk-toggleable__label {\n",
       "  /* unfitted */\n",
       "  background-color: var(--sklearn-color-unfitted-level-2);\n",
       "}\n",
       "\n",
       "#sk-container-id-1 div.sk-estimator.fitted input.sk-toggleable__control:checked~label.sk-toggleable__label {\n",
       "  /* fitted */\n",
       "  background-color: var(--sklearn-color-fitted-level-2);\n",
       "}\n",
       "\n",
       "#sk-container-id-1 div.sk-label label.sk-toggleable__label,\n",
       "#sk-container-id-1 div.sk-label label {\n",
       "  /* The background is the default theme color */\n",
       "  color: var(--sklearn-color-text-on-default-background);\n",
       "}\n",
       "\n",
       "/* On hover, darken the color of the background */\n",
       "#sk-container-id-1 div.sk-label:hover label.sk-toggleable__label {\n",
       "  color: var(--sklearn-color-text);\n",
       "  background-color: var(--sklearn-color-unfitted-level-2);\n",
       "}\n",
       "\n",
       "/* Label box, darken color on hover, fitted */\n",
       "#sk-container-id-1 div.sk-label.fitted:hover label.sk-toggleable__label.fitted {\n",
       "  color: var(--sklearn-color-text);\n",
       "  background-color: var(--sklearn-color-fitted-level-2);\n",
       "}\n",
       "\n",
       "/* Estimator label */\n",
       "\n",
       "#sk-container-id-1 div.sk-label label {\n",
       "  font-family: monospace;\n",
       "  font-weight: bold;\n",
       "  display: inline-block;\n",
       "  line-height: 1.2em;\n",
       "}\n",
       "\n",
       "#sk-container-id-1 div.sk-label-container {\n",
       "  text-align: center;\n",
       "}\n",
       "\n",
       "/* Estimator-specific */\n",
       "#sk-container-id-1 div.sk-estimator {\n",
       "  font-family: monospace;\n",
       "  border: 1px dotted var(--sklearn-color-border-box);\n",
       "  border-radius: 0.25em;\n",
       "  box-sizing: border-box;\n",
       "  margin-bottom: 0.5em;\n",
       "  /* unfitted */\n",
       "  background-color: var(--sklearn-color-unfitted-level-0);\n",
       "}\n",
       "\n",
       "#sk-container-id-1 div.sk-estimator.fitted {\n",
       "  /* fitted */\n",
       "  background-color: var(--sklearn-color-fitted-level-0);\n",
       "}\n",
       "\n",
       "/* on hover */\n",
       "#sk-container-id-1 div.sk-estimator:hover {\n",
       "  /* unfitted */\n",
       "  background-color: var(--sklearn-color-unfitted-level-2);\n",
       "}\n",
       "\n",
       "#sk-container-id-1 div.sk-estimator.fitted:hover {\n",
       "  /* fitted */\n",
       "  background-color: var(--sklearn-color-fitted-level-2);\n",
       "}\n",
       "\n",
       "/* Specification for estimator info (e.g. \"i\" and \"?\") */\n",
       "\n",
       "/* Common style for \"i\" and \"?\" */\n",
       "\n",
       ".sk-estimator-doc-link,\n",
       "a:link.sk-estimator-doc-link,\n",
       "a:visited.sk-estimator-doc-link {\n",
       "  float: right;\n",
       "  font-size: smaller;\n",
       "  line-height: 1em;\n",
       "  font-family: monospace;\n",
       "  background-color: var(--sklearn-color-background);\n",
       "  border-radius: 1em;\n",
       "  height: 1em;\n",
       "  width: 1em;\n",
       "  text-decoration: none !important;\n",
       "  margin-left: 1ex;\n",
       "  /* unfitted */\n",
       "  border: var(--sklearn-color-unfitted-level-1) 1pt solid;\n",
       "  color: var(--sklearn-color-unfitted-level-1);\n",
       "}\n",
       "\n",
       ".sk-estimator-doc-link.fitted,\n",
       "a:link.sk-estimator-doc-link.fitted,\n",
       "a:visited.sk-estimator-doc-link.fitted {\n",
       "  /* fitted */\n",
       "  border: var(--sklearn-color-fitted-level-1) 1pt solid;\n",
       "  color: var(--sklearn-color-fitted-level-1);\n",
       "}\n",
       "\n",
       "/* On hover */\n",
       "div.sk-estimator:hover .sk-estimator-doc-link:hover,\n",
       ".sk-estimator-doc-link:hover,\n",
       "div.sk-label-container:hover .sk-estimator-doc-link:hover,\n",
       ".sk-estimator-doc-link:hover {\n",
       "  /* unfitted */\n",
       "  background-color: var(--sklearn-color-unfitted-level-3);\n",
       "  color: var(--sklearn-color-background);\n",
       "  text-decoration: none;\n",
       "}\n",
       "\n",
       "div.sk-estimator.fitted:hover .sk-estimator-doc-link.fitted:hover,\n",
       ".sk-estimator-doc-link.fitted:hover,\n",
       "div.sk-label-container:hover .sk-estimator-doc-link.fitted:hover,\n",
       ".sk-estimator-doc-link.fitted:hover {\n",
       "  /* fitted */\n",
       "  background-color: var(--sklearn-color-fitted-level-3);\n",
       "  color: var(--sklearn-color-background);\n",
       "  text-decoration: none;\n",
       "}\n",
       "\n",
       "/* Span, style for the box shown on hovering the info icon */\n",
       ".sk-estimator-doc-link span {\n",
       "  display: none;\n",
       "  z-index: 9999;\n",
       "  position: relative;\n",
       "  font-weight: normal;\n",
       "  right: .2ex;\n",
       "  padding: .5ex;\n",
       "  margin: .5ex;\n",
       "  width: min-content;\n",
       "  min-width: 20ex;\n",
       "  max-width: 50ex;\n",
       "  color: var(--sklearn-color-text);\n",
       "  box-shadow: 2pt 2pt 4pt #999;\n",
       "  /* unfitted */\n",
       "  background: var(--sklearn-color-unfitted-level-0);\n",
       "  border: .5pt solid var(--sklearn-color-unfitted-level-3);\n",
       "}\n",
       "\n",
       ".sk-estimator-doc-link.fitted span {\n",
       "  /* fitted */\n",
       "  background: var(--sklearn-color-fitted-level-0);\n",
       "  border: var(--sklearn-color-fitted-level-3);\n",
       "}\n",
       "\n",
       ".sk-estimator-doc-link:hover span {\n",
       "  display: block;\n",
       "}\n",
       "\n",
       "/* \"?\"-specific style due to the `<a>` HTML tag */\n",
       "\n",
       "#sk-container-id-1 a.estimator_doc_link {\n",
       "  float: right;\n",
       "  font-size: 1rem;\n",
       "  line-height: 1em;\n",
       "  font-family: monospace;\n",
       "  background-color: var(--sklearn-color-background);\n",
       "  border-radius: 1rem;\n",
       "  height: 1rem;\n",
       "  width: 1rem;\n",
       "  text-decoration: none;\n",
       "  /* unfitted */\n",
       "  color: var(--sklearn-color-unfitted-level-1);\n",
       "  border: var(--sklearn-color-unfitted-level-1) 1pt solid;\n",
       "}\n",
       "\n",
       "#sk-container-id-1 a.estimator_doc_link.fitted {\n",
       "  /* fitted */\n",
       "  border: var(--sklearn-color-fitted-level-1) 1pt solid;\n",
       "  color: var(--sklearn-color-fitted-level-1);\n",
       "}\n",
       "\n",
       "/* On hover */\n",
       "#sk-container-id-1 a.estimator_doc_link:hover {\n",
       "  /* unfitted */\n",
       "  background-color: var(--sklearn-color-unfitted-level-3);\n",
       "  color: var(--sklearn-color-background);\n",
       "  text-decoration: none;\n",
       "}\n",
       "\n",
       "#sk-container-id-1 a.estimator_doc_link.fitted:hover {\n",
       "  /* fitted */\n",
       "  background-color: var(--sklearn-color-fitted-level-3);\n",
       "}\n",
       "</style><div id=\"sk-container-id-1\" class=\"sk-top-container\"><div class=\"sk-text-repr-fallback\"><pre>RandomForestClassifier(criterion=&#x27;log_loss&#x27;, max_depth=100, max_features=&#x27;log2&#x27;,\n",
       "                       n_estimators=600, random_state=123)</pre><b>In a Jupyter environment, please rerun this cell to show the HTML representation or trust the notebook. <br />On GitHub, the HTML representation is unable to render, please try loading this page with nbviewer.org.</b></div><div class=\"sk-container\" hidden><div class=\"sk-item\"><div class=\"sk-estimator fitted sk-toggleable\"><input class=\"sk-toggleable__control sk-hidden--visually\" id=\"sk-estimator-id-1\" type=\"checkbox\" checked><label for=\"sk-estimator-id-1\" class=\"sk-toggleable__label fitted sk-toggleable__label-arrow fitted\">&nbsp;&nbsp;RandomForestClassifier<a class=\"sk-estimator-doc-link fitted\" rel=\"noreferrer\" target=\"_blank\" href=\"https://scikit-learn.org/1.4/modules/generated/sklearn.ensemble.RandomForestClassifier.html\">?<span>Documentation for RandomForestClassifier</span></a><span class=\"sk-estimator-doc-link fitted\">i<span>Fitted</span></span></label><div class=\"sk-toggleable__content fitted\"><pre>RandomForestClassifier(criterion=&#x27;log_loss&#x27;, max_depth=100, max_features=&#x27;log2&#x27;,\n",
       "                       n_estimators=600, random_state=123)</pre></div> </div></div></div></div>"
      ],
      "text/plain": [
       "RandomForestClassifier(criterion='log_loss', max_depth=100, max_features='log2',\n",
       "                       n_estimators=600, random_state=123)"
      ]
     },
     "execution_count": 22,
     "metadata": {},
     "output_type": "execute_result"
    }
   ],
   "source": [
    "random_forest_final = RandomForestClassifier(n_estimators=600, max_features = 'log2', max_depth = 100, criterion = 'log_loss', random_state=RANDOM_STATE)\n",
    "\n",
    "# Entrenar el modelo\n",
    "random_forest_final.fit(X_train, y_train)"
   ]
  },
  {
   "cell_type": "code",
   "execution_count": 23,
   "metadata": {},
   "outputs": [
    {
     "name": "stdout",
     "output_type": "stream",
     "text": [
      "Test accuracy: 0.7351694915254238\n",
      "              precision    recall  f1-score   support\n",
      "\n",
      "         Bad       0.74      0.78      0.76      1015\n",
      "        Good       0.73      0.69      0.71       873\n",
      "\n",
      "    accuracy                           0.74      1888\n",
      "   macro avg       0.73      0.73      0.73      1888\n",
      "weighted avg       0.73      0.74      0.73      1888\n",
      "\n"
     ]
    }
   ],
   "source": [
    "\n",
    "# Predecir en el conjunto de validación\n",
    "y_pred_test_rf = random_forest_final.predict(X_test)\n",
    "\n",
    "# Evaluar el rendimiento del modelo\n",
    "test_accuracy_rf = accuracy_score(y_test, y_pred_test_rf)\n",
    "print('Test accuracy:', test_accuracy_rf)\n",
    "report_rf = classification_report(y_test, y_pred_test_rf)\n",
    "print(report_rf)\n"
   ]
  },
  {
   "cell_type": "code",
   "execution_count": 24,
   "metadata": {},
   "outputs": [
    {
     "data": {
      "image/png": "[encoded data removed]",
      "text/plain": [
       "<Figure size 640x480 with 1 Axes>"
      ]
     },
     "metadata": {},
     "output_type": "display_data"
    },
    {
     "name": "stdout",
     "output_type": "stream",
     "text": [
      "ROC AUC (Random Forest): 0.8061\n"
     ]
    }
   ],
   "source": [
    "# Graficar la curva ROC usando las variables existentes para random_forest\n",
    "y_pred_proba_rf = random_forest.predict_proba(X_test)[:, 1]\n",
    "fpr_rf, tpr_rf, _ = roc_curve(y_test.map({'Bad': 0, 'Good': 1}), y_pred_proba_rf)\n",
    "roc_auc_rf = roc_auc_score(y_test.map({'Bad': 0, 'Good': 1}), y_pred_proba_rf)\n",
    "plt.figure()\n",
    "plt.plot(fpr_rf, tpr_rf, color='darkorange', lw=2, label='ROC curve (area = %0.2f)' % roc_auc_rf)\n",
    "plt.plot([0, 1], [0, 1], color='navy', lw=2, linestyle='--')\n",
    "plt.xlim([0.0, 1.0])\n",
    "plt.ylim([0.0, 1.05])\n",
    "plt.xlabel('False Positive Rate')\n",
    "plt.ylabel('True Positive Rate')\n",
    "plt.title('ROC Curve - Random Forest')\n",
    "plt.legend(loc=\"lower right\")\n",
    "plt.show()\n",
    "\n",
    "# Calcular ROC AUC para random_forest\n",
    "roc_auc_rf = roc_auc_score(y_test, y_pred_proba_rf)\n",
    "print('ROC AUC (Random Forest):', round(roc_auc_rf, 4))"
   ]
  },
  {
   "cell_type": "code",
   "execution_count": null,
   "metadata": {},
   "outputs": [],
   "source": []
  }
 ],
 "metadata": {
  "kernelspec": {
   "display_name": "base",
   "language": "python",
   "name": "python3"
  },
  "language_info": {
   "codemirror_mode": {
    "name": "ipython",
    "version": 3
   },
   "file_extension": ".py",
   "mimetype": "text/x-python",
   "name": "python",
   "nbconvert_exporter": "python",
   "pygments_lexer": "ipython3",
   "version": "3.12.4"
  }
 },
 "nbformat": 4,
 "nbformat_minor": 2
}
