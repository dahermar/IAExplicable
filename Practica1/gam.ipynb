{
 "cells": [
  {
   "cell_type": "markdown",
   "metadata": {},
   "source": [
    "# Carga de librerías"
   ]
  },
  {
   "cell_type": "code",
   "execution_count": 61,
   "metadata": {},
   "outputs": [],
   "source": [
    "import pandas as pd\n",
    "import numpy as np\n",
    "from sklearn.model_selection import GridSearchCV\n",
    "from sklearn.model_selection import RandomizedSearchCV\n",
    "from sklearn.metrics import accuracy_score\n",
    "from sklearn.preprocessing import StandardScaler\n",
    "from interpret.glassbox import ExplainableBoostingClassifier\n",
    "from interpret import show\n",
    "from sklearn.metrics import confusion_matrix\n",
    "import seaborn as sns\n",
    "from sklearn.metrics import confusion_matrix\n",
    "import matplotlib.pyplot as plt\n",
    "from sklearn.metrics import roc_curve, roc_auc_score\n",
    "from sklearn.metrics import classification_report\n",
    "from sklearn.ensemble import RandomForestClassifier\n",
    "\n",
    "RANDOM_STATE = 123"
   ]
  },
  {
   "cell_type": "markdown",
   "metadata": {},
   "source": [
    "# Carga"
   ]
  },
  {
   "cell_type": "code",
   "execution_count": 2,
   "metadata": {},
   "outputs": [],
   "source": [
    "# Cargar conjuntos de datos\n",
    "train_csv = pd.read_csv('data/train.csv')\n",
    "validation_csv = pd.read_csv('data/validation.csv')\n",
    "test_csv = pd.read_csv('data/test.csv')\n",
    "\n",
    "# Separar datos y etiquetas\n",
    "feature_cols = train_csv.columns.values.tolist()[1:]\n",
    "X_train = train_csv[feature_cols]\n",
    "y_train = train_csv['RiskPerformance']\n",
    "X_validation = validation_csv[feature_cols]\n",
    "y_validation = validation_csv['RiskPerformance']\n",
    "X_test = test_csv[feature_cols]\n",
    "y_test = test_csv['RiskPerformance']"
   ]
  },
  {
   "cell_type": "code",
   "execution_count": 102,
   "metadata": {},
   "outputs": [
    {
     "name": "stdout",
     "output_type": "stream",
     "text": [
      "       ExternalRiskEstimate  MSinceOldestTradeOpen  MSinceMostRecentTradeOpen  \\\n",
      "count           6459.000000            6459.000000                6459.000000   \n",
      "mean              67.563090             183.783558                   8.548847   \n",
      "std               21.139229             109.572157                  12.708462   \n",
      "min               -9.000000              -9.000000                  -9.000000   \n",
      "25%               63.000000             117.000000                   2.500000   \n",
      "50%               71.000000             177.000000                   5.000000   \n",
      "75%               80.000000             249.000000                  11.000000   \n",
      "max               94.000000             603.000000                 227.000000   \n",
      "\n",
      "       AverageMInFile  NumSatisfactoryTrades  NumTrades60Ever2DerogPubRec  \\\n",
      "count     6459.000000            6459.000000                  6459.000000   \n",
      "mean        74.134231              19.403158                     0.053414   \n",
      "std         38.893707              13.033631                     2.532862   \n",
      "min         -9.000000              -9.000000                    -9.000000   \n",
      "25%         52.000000              12.000000                     0.000000   \n",
      "50%         74.000000              19.000000                     0.000000   \n",
      "75%         95.000000              27.000000                     1.000000   \n",
      "max        322.000000              79.000000                    19.000000   \n",
      "\n",
      "       NumTrades90Ever2DerogPubRec  PercentTradesNeverDelq  \\\n",
      "count                  6459.000000             6459.000000   \n",
      "mean                     -0.136708               86.624245   \n",
      "std                       2.379206               26.003404   \n",
      "min                      -9.000000               -9.000000   \n",
      "25%                       0.000000               87.000000   \n",
      "50%                       0.000000               96.000000   \n",
      "75%                       0.000000              100.000000   \n",
      "max                      19.000000              100.000000   \n",
      "\n",
      "       MSinceMostRecentDelq  MaxDelq2PublicRecLast12M  ...  \\\n",
      "count           6459.000000               6459.000000  ...   \n",
      "mean               6.930639                  4.917325  ...   \n",
      "std               20.651171                  3.762166  ...   \n",
      "min               -9.000000                 -9.000000  ...   \n",
      "25%               -7.000000                  4.000000  ...   \n",
      "50%               -7.000000                  6.000000  ...   \n",
      "75%               14.000000                  7.000000  ...   \n",
      "max               82.000000                  9.000000  ...   \n",
      "\n",
      "       PercentInstallTrades  MSinceMostRecentInqexcl7days  NumInqLast6M  \\\n",
      "count           6459.000000                   6459.000000   6459.000000   \n",
      "mean              32.126026                     -0.368478      0.832327   \n",
      "std               20.110224                      6.057905      3.060437   \n",
      "min               -9.000000                     -9.000000     -9.000000   \n",
      "25%               20.000000                     -7.000000      0.000000   \n",
      "50%               31.000000                      0.000000      1.000000   \n",
      "75%               44.000000                      1.000000      2.000000   \n",
      "max              100.000000                     24.000000     29.000000   \n",
      "\n",
      "       NumInqLast6Mexcl7days  NetFractionRevolvingBurden  \\\n",
      "count            6459.000000                 6459.000000   \n",
      "mean                0.775972                   31.113175   \n",
      "std                 3.023005                   29.780757   \n",
      "min                -9.000000                   -9.000000   \n",
      "25%                 0.000000                    5.000000   \n",
      "50%                 1.000000                   25.000000   \n",
      "75%                 2.000000                   53.000000   \n",
      "max                29.000000                  232.000000   \n",
      "\n",
      "       NetFractionInstallBurden  NumRevolvingTradesWBalance  \\\n",
      "count               6459.000000                 6459.000000   \n",
      "mean                  38.528410                    3.157300   \n",
      "std                   42.282976                    4.390052   \n",
      "min                   -9.000000                   -9.000000   \n",
      "25%                   -8.000000                    2.000000   \n",
      "50%                   46.000000                    3.000000   \n",
      "75%                   78.000000                    5.000000   \n",
      "max                  471.000000                   27.000000   \n",
      "\n",
      "       NumInstallTradesWBalance  NumBank2NatlTradesWHighUtilization  \\\n",
      "count               6459.000000                         6459.000000   \n",
      "mean                   0.931723                           -0.028487   \n",
      "std                    4.096182                            3.353785   \n",
      "min                   -9.000000                           -9.000000   \n",
      "25%                    1.000000                            0.000000   \n",
      "50%                    2.000000                            0.000000   \n",
      "75%                    3.000000                            1.000000   \n",
      "max                   19.000000                           18.000000   \n",
      "\n",
      "       PercentTradesWBalance  \n",
      "count            6459.000000  \n",
      "mean               61.725654  \n",
      "std                27.623217  \n",
      "min                -9.000000  \n",
      "25%                47.000000  \n",
      "50%                67.000000  \n",
      "75%                81.500000  \n",
      "max               100.000000  \n",
      "\n",
      "[8 rows x 23 columns]\n"
     ]
    }
   ],
   "source": [
    "# Comprobar rangos de valores\n",
    "print(X_train.describe())\n",
    "\n",
    "# Normalizar los datos\n",
    "\n",
    "scaler = StandardScaler()\n",
    "X_train = pd.DataFrame(scaler.fit_transform(X_train))\n",
    "X_validation = pd.DataFrame(scaler.transform(X_validation))\n",
    "X_test = pd.DataFrame(scaler.transform(X_test))\n"
   ]
  },
  {
   "cell_type": "code",
   "execution_count": 3,
   "metadata": {},
   "outputs": [
    {
     "name": "stdout",
     "output_type": "stream",
     "text": [
      "Validation accuracy (EBM): 0.7145\n"
     ]
    }
   ],
   "source": [
    "\n",
    "\n",
    "# Crear y entrenar el modelo EBM\n",
    "ebm = ExplainableBoostingClassifier()\n",
    "ebm.fit(X_train, y_train)\n",
    "\n",
    "# Predecir en el conjunto de validación\n",
    "y_pred_validation_ebm = ebm.predict(X_validation)\n",
    "\n",
    "# Evaluar el rendimiento del modelo\n",
    "validation_accuracy_ebm = accuracy_score(y_validation, y_pred_validation_ebm)\n",
    "print('Validation accuracy (EBM):', validation_accuracy_ebm)\n"
   ]
  },
  {
   "cell_type": "code",
   "execution_count": null,
   "metadata": {},
   "outputs": [],
   "source": [
    "# Definir la cuadrícula de hiperparámetros\n",
    "params_grid = {\n",
    "    'interactions': [0, 10, 20],\n",
    "    'learning_rate': [0.01, 0.1, 0.2],\n",
    "    'max_bins': [128, 256],\n",
    "    'max_leaves': [3, 5, 7]\n",
    "}\n",
    "\n",
    "# Crear el modelo EBM\n",
    "ebm = ExplainableBoostingClassifier()\n",
    "\n",
    "# Configurar GridSearchCV\n",
    "grid_search_ebm = GridSearchCV(estimator=ebm, param_grid=params_grid, scoring='accuracy', n_jobs=-1)\n",
    "\n",
    "# Entrenar el modelo con GridSearchCV\n",
    "grid_search_ebm.fit(X_train, y_train)\n",
    "\n",
    "# Obtener los mejores hiperparámetros\n",
    "best_params = grid_search_ebm.best_params_\n",
    "print(\"Mejores hiperparámetros:\", best_params)\n",
    "print(\"Mejor accuracy:\", grid_search_ebm.best_score_)\n"
   ]
  },
  {
   "cell_type": "code",
   "execution_count": 7,
   "metadata": {},
   "outputs": [
    {
     "name": "stdout",
     "output_type": "stream",
     "text": [
      "Mejores hiperparámetros: {'inner_bags': 0, 'interactions': 0.75, 'max_bins': 4096, 'smoothing_rounds': 200}\n",
      "Mejor accuracy: 0.7326\n"
     ]
    }
   ],
   "source": [
    "params_grid = {\n",
    "    'smoothing_rounds': [200, 500],\n",
    "    'interactions': [0.75, 0.9],\n",
    "    'inner_bags': [0, 1],\n",
    "    'max_bins': [1024, 4096]\n",
    "}\n",
    "\n",
    "# Crear el modelo EBM\n",
    "ebm = ExplainableBoostingClassifier()\n",
    "\n",
    "# Configurar GridSearchCV\n",
    "grid_search_ebm = GridSearchCV(estimator=ebm, param_grid=params_grid, scoring='accuracy', n_jobs=-1)\n",
    "\n",
    "# Entrenar el modelo con GridSearchCV\n",
    "grid_search_ebm.fit(X_train, y_train)\n",
    "\n",
    "# Obtener los mejores hiperparámetros\n",
    "best_params = grid_search_ebm.best_params_\n",
    "print(\"Mejores hiperparámetros:\", best_params)\n",
    "print(\"Mejor accuracy:\", round(grid_search_ebm.best_score_, 4))\n"
   ]
  },
  {
   "cell_type": "code",
   "execution_count": 8,
   "metadata": {},
   "outputs": [
    {
     "name": "stdout",
     "output_type": "stream",
     "text": [
      "Mejores hiperparámetros: {'inner_bags': 0, 'interactions': 0.75, 'max_bins': 4096, 'smoothing_rounds': 200}\n",
      "Mejor accuracy: 0.7326\n"
     ]
    }
   ],
   "source": [
    "params_grid = {\n",
    "    'smoothing_rounds': [100, 200, 500],\n",
    "    'interactions': [0.75, 0.9, 5],\n",
    "    'inner_bags': [0, 1, 2],\n",
    "    'max_bins': [1024, 4096, 16384]\n",
    "}\n",
    "\n",
    "# Crear el modelo EBM\n",
    "ebm = ExplainableBoostingClassifier()\n",
    "\n",
    "# Configurar GridSearchCV\n",
    "grid_search_ebm = GridSearchCV(estimator=ebm, param_grid=params_grid, scoring='accuracy', n_jobs=-1)\n",
    "\n",
    "# Entrenar el modelo con GridSearchCV\n",
    "grid_search_ebm.fit(X_train, y_train)\n",
    "\n",
    "# Obtener los mejores hiperparámetros\n",
    "best_params = grid_search_ebm.best_params_\n",
    "print(\"Mejores hiperparámetros:\", best_params)\n",
    "print(\"Mejor accuracy:\", round(grid_search_ebm.best_score_, 4))"
   ]
  },
  {
   "cell_type": "markdown",
   "metadata": {},
   "source": [
    "Mejores hiperparámetros: {'inner_bags': 0, 'interactions': 0.75, 'max_bins': 4096, 'smoothing_rounds': 200}\n",
    "\n",
    "Mejor accuracy: 0.7326"
   ]
  },
  {
   "cell_type": "code",
   "execution_count": 36,
   "metadata": {},
   "outputs": [
    {
     "name": "stdout",
     "output_type": "stream",
     "text": [
      "Mejores hiperparámetros (Random Search): {'smoothing_rounds': 2000, 'max_interaction_bins': 16, 'max_bins': 1024, 'interactions': 0.95, 'inner_bags': 1}\n",
      "Mejor accuracy (Random Search): 0.7321566549078762\n"
     ]
    }
   ],
   "source": [
    "\n",
    "params_grid = {\n",
    "    'smoothing_rounds': [0, 50, 100, 200, 500, 1000, 2000, 4000],\n",
    "    'interactions': [0, 0.5, 0.75, 0.9, 0.95, 5, 10, 25, 50, 100, 250],\n",
    "    'inner_bags': [0, 1, 2, 5],\n",
    "    'max_bins': [1024, 4096, 16384, 65536],\n",
    "    'max_interaction_bins': [8, 16, 32, 64, 128, 256]\n",
    "}\n",
    "\n",
    "# Crear el modelo EBM\n",
    "ebm_random = ExplainableBoostingClassifier()\n",
    "\n",
    "# Configurar RandomizedSearchCV\n",
    "random_search_ebm = RandomizedSearchCV(estimator=ebm_random, param_distributions=params_grid, scoring='accuracy', n_iter=40, n_jobs=-1, random_state=RANDOM_STATE)\n",
    "\n",
    "# Entrenar el modelo con RandomizedSearchCV\n",
    "random_search_ebm.fit(X_train, y_train)\n",
    "\n",
    "# Obtener los mejores hiperparámetros\n",
    "best_params_random = random_search_ebm.best_params_\n",
    "print(\"Mejores hiperparámetros (Random Search):\", best_params_random)\n",
    "print(\"Mejor accuracy (Random Search):\", random_search_ebm.best_score_)"
   ]
  },
  {
   "cell_type": "code",
   "execution_count": 37,
   "metadata": {},
   "outputs": [
    {
     "name": "stdout",
     "output_type": "stream",
     "text": [
      "Mejores hiperparámetros: {'inner_bags': 0, 'interactions': 0.5, 'max_bins': 1024, 'smoothing_rounds': 200}\n",
      "Mejor accuracy: 0.7326\n"
     ]
    }
   ],
   "source": [
    "params_grid = {\n",
    "    'smoothing_rounds': [100, 200, 500, 1000],\n",
    "    'interactions': [0.5, 0.75, 0.9, 5],\n",
    "    'inner_bags': [0, 1, 2],\n",
    "    'max_bins': [1024, 4096, 16384]\n",
    "}\n",
    "\n",
    "# Crear el modelo EBM\n",
    "ebm = ExplainableBoostingClassifier()\n",
    "\n",
    "# Configurar GridSearchCV\n",
    "grid_search_ebm = GridSearchCV(estimator=ebm, param_grid=params_grid, scoring='accuracy', n_jobs=-1)\n",
    "\n",
    "# Entrenar el modelo con GridSearchCV\n",
    "grid_search_ebm.fit(X_train, y_train)\n",
    "\n",
    "# Obtener los mejores hiperparámetros\n",
    "best_params = grid_search_ebm.best_params_\n",
    "print(\"Mejores hiperparámetros:\", best_params)\n",
    "print(\"Mejor accuracy:\", round(grid_search_ebm.best_score_, 4))"
   ]
  },
  {
   "cell_type": "markdown",
   "metadata": {},
   "source": [
    "Mejores hiperparámetros: {'inner_bags': 0, 'interactions': 0.5, 'max_bins': 1024, 'smoothing_rounds': 200}\n",
    "Mejor accuracy: 0.7326"
   ]
  },
  {
   "cell_type": "markdown",
   "metadata": {},
   "source": [
    "Prueba1"
   ]
  },
  {
   "cell_type": "code",
   "execution_count": 71,
   "metadata": {},
   "outputs": [
    {
     "name": "stdout",
     "output_type": "stream",
     "text": [
      "Mejores hiperparámetros: {'inner_bags': 0, 'interactions': 10, 'max_bins': 1024, 'smoothing_rounds': 50}\n",
      "Mejor accuracy: 0.7334\n"
     ]
    }
   ],
   "source": [
    "params_grid = {\n",
    "    'smoothing_rounds': [50, 100, 200, 500, 1000, 2000, 4000],\n",
    "    'interactions': [0.5, 0.75, 0.9, 5, 10],\n",
    "    'inner_bags': [0, 1, 2],\n",
    "    'max_bins': [1024, 4096, 16384, 65536]\n",
    "}\n",
    "\n",
    "# Crear el modelo EBM\n",
    "ebm = ExplainableBoostingClassifier()\n",
    "\n",
    "# Configurar GridSearchCV\n",
    "grid_search_ebm = GridSearchCV(estimator=ebm, param_grid=params_grid, scoring='accuracy', n_jobs=-1)\n",
    "\n",
    "# Entrenar el modelo con GridSearchCV\n",
    "grid_search_ebm.fit(X_train, y_train)\n",
    "\n",
    "# Obtener los mejores hiperparámetros\n",
    "best_params = grid_search_ebm.best_params_\n",
    "print(\"Mejores hiperparámetros:\", best_params)\n",
    "print(\"Mejor accuracy:\", round(grid_search_ebm.best_score_, 4))"
   ]
  },
  {
   "cell_type": "markdown",
   "metadata": {},
   "source": [
    "Mejores hiperparámetros: {'inner_bags': 0, 'interactions': 10, 'max_bins': 1024, 'smoothing_rounds': 50}\n",
    "Mejor accuracy: 0.7334"
   ]
  },
  {
   "cell_type": "markdown",
   "metadata": {},
   "source": [
    "Prueba 2"
   ]
  },
  {
   "cell_type": "code",
   "execution_count": 72,
   "metadata": {},
   "outputs": [
    {
     "name": "stdout",
     "output_type": "stream",
     "text": [
      "Mejores hiperparámetros: {'inner_bags': 0, 'interactions': 50, 'max_bins': 4096, 'smoothing_rounds': 100}\n",
      "Mejor accuracy: 0.7334\n"
     ]
    }
   ],
   "source": [
    "params_grid = {\n",
    "    'smoothing_rounds': [50, 100, 200, 500, 1000, 2000, 4000],\n",
    "    'interactions': [0.5, 0.75, 0.9, 0.95, 5, 10, 50],\n",
    "    'inner_bags': [0, 1, 2, 5, 10],\n",
    "    'max_bins': [1024, 4096, 16384, 65536]\n",
    "}\n",
    "\n",
    "# Crear el modelo EBM\n",
    "ebm = ExplainableBoostingClassifier()\n",
    "\n",
    "# Configurar GridSearchCV\n",
    "grid_search_ebm = GridSearchCV(estimator=ebm, param_grid=params_grid, scoring='accuracy', n_jobs=-1)\n",
    "\n",
    "# Entrenar el modelo con GridSearchCV\n",
    "grid_search_ebm.fit(X_train, y_train)\n",
    "\n",
    "# Obtener los mejores hiperparámetros\n",
    "best_params = grid_search_ebm.best_params_\n",
    "print(\"Mejores hiperparámetros:\", best_params)\n",
    "print(\"Mejor accuracy:\", round(grid_search_ebm.best_score_, 4))"
   ]
  },
  {
   "cell_type": "markdown",
   "metadata": {},
   "source": [
    "Mejores hiperparámetros: {'inner_bags': 0, 'interactions': 50, 'max_bins': 4096, 'smoothing_rounds': 100}\n",
    "Mejor accuracy: 0.7334"
   ]
  },
  {
   "cell_type": "markdown",
   "metadata": {},
   "source": [
    "# Entrenamiento del modelo"
   ]
  },
  {
   "cell_type": "code",
   "execution_count": 53,
   "metadata": {},
   "outputs": [
    {
     "data": {
      "text/plain": [
       "{'inner_bags': 0,\n",
       " 'interactions': 0.5,\n",
       " 'max_bins': 1024,\n",
       " 'smoothing_rounds': 200}"
      ]
     },
     "execution_count": 53,
     "metadata": {},
     "output_type": "execute_result"
    }
   ],
   "source": [
    "best_params"
   ]
  },
  {
   "cell_type": "code",
   "execution_count": 51,
   "metadata": {},
   "outputs": [
    {
     "name": "stdout",
     "output_type": "stream",
     "text": [
      "Accuracy entrenamiento: 0.7437683851989472\n",
      "Accuracy validación: 0.713\n"
     ]
    }
   ],
   "source": [
    "# Crear el modelo EBM con los mejores hiperparámetros\n",
    "ebm_final = ExplainableBoostingClassifier(inner_bags=0, interactions=0.5, max_bins=1024, smoothing_rounds=200)\n",
    "\n",
    "# Entrenar el modelo\n",
    "ebm_final.fit(X_train, y_train)\n",
    "\n",
    "y_pred_train = ebm_final.predict(X_train)\n",
    "y_pred_validation = ebm_final.predict(X_validation)\n",
    "\n",
    "# Evaluar el rendimiento del modelo\n",
    "train_accuracy = accuracy_score(y_train, y_pred_train)\n",
    "validation_accuracy = accuracy_score(y_validation, y_pred_validation)\n",
    "print('Accuracy entrenamiento:', train_accuracy)\n",
    "print('Accuracy validación:', validation_accuracy)"
   ]
  },
  {
   "cell_type": "code",
   "execution_count": 54,
   "metadata": {},
   "outputs": [
    {
     "name": "stdout",
     "output_type": "stream",
     "text": [
      "Test accuracy: 0.746292372881356\n"
     ]
    }
   ],
   "source": [
    "y_pred_test = ebm_final.predict(X_test)\n",
    "\n",
    "test_accuracy = accuracy_score(y_test, y_pred_test)\n",
    "print('Test accuracy:', test_accuracy)"
   ]
  },
  {
   "cell_type": "code",
   "execution_count": 55,
   "metadata": {},
   "outputs": [
    {
     "name": "stdout",
     "output_type": "stream",
     "text": [
      "              precision    recall  f1-score   support\n",
      "\n",
      "         Bad       0.76      0.77      0.77      1015\n",
      "        Good       0.73      0.71      0.72       873\n",
      "\n",
      "    accuracy                           0.75      1888\n",
      "   macro avg       0.74      0.74      0.74      1888\n",
      "weighted avg       0.75      0.75      0.75      1888\n",
      "\n"
     ]
    }
   ],
   "source": [
    "report = classification_report(y_test, y_pred_test)\n",
    "print(report)"
   ]
  },
  {
   "cell_type": "code",
   "execution_count": 56,
   "metadata": {},
   "outputs": [
    {
     "data": {
      "image/png": "[encoded data removed]",
      "text/plain": [
       "<Figure size 432x288 with 1 Axes>"
      ]
     },
     "metadata": {
      "needs_background": "light"
     },
     "output_type": "display_data"
    },
    {
     "name": "stdout",
     "output_type": "stream",
     "text": [
      "ROC AUC: 0.8223\n"
     ]
    }
   ],
   "source": [
    "# Graficar la curva ROC usando las variables existentes\n",
    "plt.figure()\n",
    "plt.plot(fpr, tpr, color='darkorange', lw=2, label='ROC curve (area = %0.2f)' % roc_auc)\n",
    "plt.plot([0, 1], [0, 1], color='navy', lw=2, linestyle='--')\n",
    "plt.xlim([0.0, 1.0])\n",
    "plt.ylim([0.0, 1.05])\n",
    "plt.xlabel('False Positive Rate')\n",
    "plt.ylabel('True Positive Rate')\n",
    "plt.title('ROC Curve')\n",
    "plt.legend(loc=\"lower right\")\n",
    "plt.show()\n",
    "\n",
    "# Calcular ROC AUC\n",
    "roc_auc = roc_auc_score(y_test, y_pred_proba)\n",
    "print('ROC AUC:', round(roc_auc, 4))"
   ]
  },
  {
   "cell_type": "code",
   "execution_count": 57,
   "metadata": {},
   "outputs": [
    {
     "data": {
      "image/png": "[encoded data removed]",
      "text/plain": [
       "<Figure size 720x504 with 2 Axes>"
      ]
     },
     "metadata": {
      "needs_background": "light"
     },
     "output_type": "display_data"
    }
   ],
   "source": [
    "\n",
    "conf_matrix = confusion_matrix(y_test, y_pred_test)\n",
    "\n",
    "# Dibujar la matriz de confusión\n",
    "plt.figure(figsize=(10, 7))\n",
    "sns.heatmap(conf_matrix, annot=True, fmt='d', cmap='Blues', xticklabels=['Good', 'Bad'], yticklabels=['Good', 'Bad'])\n",
    "plt.xlabel('Predicted')\n",
    "plt.ylabel('Actual')\n",
    "plt.title('Confusion Matrix')\n",
    "plt.show()"
   ]
  },
  {
   "cell_type": "markdown",
   "metadata": {},
   "source": [
    "# Explicabilidad del modelo"
   ]
  },
  {
   "cell_type": "markdown",
   "metadata": {},
   "source": [
    "## Explicabilidad global"
   ]
  },
  {
   "cell_type": "code",
   "execution_count": 58,
   "metadata": {},
   "outputs": [
    {
     "data": {
      "text/html": [
       "<!-- http://127.0.0.1:7001/2521423889408/ -->\n",
       "<iframe src=\"http://127.0.0.1:7001/2521423889408/\" width=100% height=800 frameBorder=\"0\"></iframe>"
      ]
     },
     "metadata": {},
     "output_type": "display_data"
    }
   ],
   "source": [
    "ebm_global = ebm_final.explain_global(name='EBM')\n",
    "show(ebm_global)"
   ]
  },
  {
   "cell_type": "markdown",
   "metadata": {},
   "source": [
    "## Interpretabilidad local"
   ]
  },
  {
   "cell_type": "code",
   "execution_count": 59,
   "metadata": {},
   "outputs": [
    {
     "data": {
      "text/html": [
       "<div>\n",
       "<style scoped>\n",
       "    .dataframe tbody tr th:only-of-type {\n",
       "        vertical-align: middle;\n",
       "    }\n",
       "\n",
       "    .dataframe tbody tr th {\n",
       "        vertical-align: top;\n",
       "    }\n",
       "\n",
       "    .dataframe thead th {\n",
       "        text-align: right;\n",
       "    }\n",
       "</style>\n",
       "<table border=\"1\" class=\"dataframe\">\n",
       "  <thead>\n",
       "    <tr style=\"text-align: right;\">\n",
       "      <th></th>\n",
       "      <th>ExternalRiskEstimate</th>\n",
       "      <th>MSinceOldestTradeOpen</th>\n",
       "      <th>MSinceMostRecentTradeOpen</th>\n",
       "      <th>AverageMInFile</th>\n",
       "      <th>NumSatisfactoryTrades</th>\n",
       "      <th>NumTrades60Ever2DerogPubRec</th>\n",
       "      <th>NumTrades90Ever2DerogPubRec</th>\n",
       "      <th>PercentTradesNeverDelq</th>\n",
       "      <th>MSinceMostRecentDelq</th>\n",
       "      <th>MaxDelq2PublicRecLast12M</th>\n",
       "      <th>...</th>\n",
       "      <th>PercentInstallTrades</th>\n",
       "      <th>MSinceMostRecentInqexcl7days</th>\n",
       "      <th>NumInqLast6M</th>\n",
       "      <th>NumInqLast6Mexcl7days</th>\n",
       "      <th>NetFractionRevolvingBurden</th>\n",
       "      <th>NetFractionInstallBurden</th>\n",
       "      <th>NumRevolvingTradesWBalance</th>\n",
       "      <th>NumInstallTradesWBalance</th>\n",
       "      <th>NumBank2NatlTradesWHighUtilization</th>\n",
       "      <th>PercentTradesWBalance</th>\n",
       "    </tr>\n",
       "  </thead>\n",
       "  <tbody>\n",
       "    <tr>\n",
       "      <th>0</th>\n",
       "      <td>69</td>\n",
       "      <td>256</td>\n",
       "      <td>6</td>\n",
       "      <td>117</td>\n",
       "      <td>11</td>\n",
       "      <td>1</td>\n",
       "      <td>1</td>\n",
       "      <td>100</td>\n",
       "      <td>-7</td>\n",
       "      <td>7</td>\n",
       "      <td>...</td>\n",
       "      <td>8</td>\n",
       "      <td>0</td>\n",
       "      <td>0</td>\n",
       "      <td>0</td>\n",
       "      <td>13</td>\n",
       "      <td>-8</td>\n",
       "      <td>2</td>\n",
       "      <td>-8</td>\n",
       "      <td>0</td>\n",
       "      <td>67</td>\n",
       "    </tr>\n",
       "    <tr>\n",
       "      <th>1</th>\n",
       "      <td>61</td>\n",
       "      <td>256</td>\n",
       "      <td>19</td>\n",
       "      <td>68</td>\n",
       "      <td>14</td>\n",
       "      <td>0</td>\n",
       "      <td>0</td>\n",
       "      <td>87</td>\n",
       "      <td>0</td>\n",
       "      <td>4</td>\n",
       "      <td>...</td>\n",
       "      <td>33</td>\n",
       "      <td>0</td>\n",
       "      <td>2</td>\n",
       "      <td>1</td>\n",
       "      <td>62</td>\n",
       "      <td>68</td>\n",
       "      <td>3</td>\n",
       "      <td>3</td>\n",
       "      <td>1</td>\n",
       "      <td>86</td>\n",
       "    </tr>\n",
       "    <tr>\n",
       "      <th>2</th>\n",
       "      <td>70</td>\n",
       "      <td>37</td>\n",
       "      <td>4</td>\n",
       "      <td>20</td>\n",
       "      <td>19</td>\n",
       "      <td>0</td>\n",
       "      <td>0</td>\n",
       "      <td>100</td>\n",
       "      <td>-7</td>\n",
       "      <td>7</td>\n",
       "      <td>...</td>\n",
       "      <td>20</td>\n",
       "      <td>0</td>\n",
       "      <td>3</td>\n",
       "      <td>3</td>\n",
       "      <td>42</td>\n",
       "      <td>73</td>\n",
       "      <td>2</td>\n",
       "      <td>2</td>\n",
       "      <td>1</td>\n",
       "      <td>50</td>\n",
       "    </tr>\n",
       "    <tr>\n",
       "      <th>3</th>\n",
       "      <td>73</td>\n",
       "      <td>255</td>\n",
       "      <td>16</td>\n",
       "      <td>100</td>\n",
       "      <td>40</td>\n",
       "      <td>0</td>\n",
       "      <td>0</td>\n",
       "      <td>100</td>\n",
       "      <td>-7</td>\n",
       "      <td>7</td>\n",
       "      <td>...</td>\n",
       "      <td>23</td>\n",
       "      <td>0</td>\n",
       "      <td>1</td>\n",
       "      <td>1</td>\n",
       "      <td>79</td>\n",
       "      <td>-8</td>\n",
       "      <td>18</td>\n",
       "      <td>1</td>\n",
       "      <td>13</td>\n",
       "      <td>80</td>\n",
       "    </tr>\n",
       "    <tr>\n",
       "      <th>4</th>\n",
       "      <td>83</td>\n",
       "      <td>398</td>\n",
       "      <td>3</td>\n",
       "      <td>118</td>\n",
       "      <td>29</td>\n",
       "      <td>0</td>\n",
       "      <td>0</td>\n",
       "      <td>100</td>\n",
       "      <td>-7</td>\n",
       "      <td>7</td>\n",
       "      <td>...</td>\n",
       "      <td>31</td>\n",
       "      <td>0</td>\n",
       "      <td>3</td>\n",
       "      <td>3</td>\n",
       "      <td>22</td>\n",
       "      <td>87</td>\n",
       "      <td>6</td>\n",
       "      <td>3</td>\n",
       "      <td>0</td>\n",
       "      <td>69</td>\n",
       "    </tr>\n",
       "  </tbody>\n",
       "</table>\n",
       "<p>5 rows × 23 columns</p>\n",
       "</div>"
      ],
      "text/plain": [
       "   ExternalRiskEstimate  MSinceOldestTradeOpen  MSinceMostRecentTradeOpen  \\\n",
       "0                    69                    256                          6   \n",
       "1                    61                    256                         19   \n",
       "2                    70                     37                          4   \n",
       "3                    73                    255                         16   \n",
       "4                    83                    398                          3   \n",
       "\n",
       "   AverageMInFile  NumSatisfactoryTrades  NumTrades60Ever2DerogPubRec  \\\n",
       "0             117                     11                            1   \n",
       "1              68                     14                            0   \n",
       "2              20                     19                            0   \n",
       "3             100                     40                            0   \n",
       "4             118                     29                            0   \n",
       "\n",
       "   NumTrades90Ever2DerogPubRec  PercentTradesNeverDelq  MSinceMostRecentDelq  \\\n",
       "0                            1                     100                    -7   \n",
       "1                            0                      87                     0   \n",
       "2                            0                     100                    -7   \n",
       "3                            0                     100                    -7   \n",
       "4                            0                     100                    -7   \n",
       "\n",
       "   MaxDelq2PublicRecLast12M  ...  PercentInstallTrades  \\\n",
       "0                         7  ...                     8   \n",
       "1                         4  ...                    33   \n",
       "2                         7  ...                    20   \n",
       "3                         7  ...                    23   \n",
       "4                         7  ...                    31   \n",
       "\n",
       "   MSinceMostRecentInqexcl7days  NumInqLast6M  NumInqLast6Mexcl7days  \\\n",
       "0                             0             0                      0   \n",
       "1                             0             2                      1   \n",
       "2                             0             3                      3   \n",
       "3                             0             1                      1   \n",
       "4                             0             3                      3   \n",
       "\n",
       "   NetFractionRevolvingBurden  NetFractionInstallBurden  \\\n",
       "0                          13                        -8   \n",
       "1                          62                        68   \n",
       "2                          42                        73   \n",
       "3                          79                        -8   \n",
       "4                          22                        87   \n",
       "\n",
       "   NumRevolvingTradesWBalance  NumInstallTradesWBalance  \\\n",
       "0                           2                        -8   \n",
       "1                           3                         3   \n",
       "2                           2                         2   \n",
       "3                          18                         1   \n",
       "4                           6                         3   \n",
       "\n",
       "   NumBank2NatlTradesWHighUtilization  PercentTradesWBalance  \n",
       "0                                   0                     67  \n",
       "1                                   1                     86  \n",
       "2                                   1                     50  \n",
       "3                                  13                     80  \n",
       "4                                   0                     69  \n",
       "\n",
       "[5 rows x 23 columns]"
      ]
     },
     "execution_count": 59,
     "metadata": {},
     "output_type": "execute_result"
    }
   ],
   "source": [
    "X_test[:5]"
   ]
  },
  {
   "cell_type": "code",
   "execution_count": 60,
   "metadata": {},
   "outputs": [
    {
     "data": {
      "text/html": [
       "<!-- http://127.0.0.1:7001/2521494823600/ -->\n",
       "<iframe src=\"http://127.0.0.1:7001/2521494823600/\" width=100% height=800 frameBorder=\"0\"></iframe>"
      ]
     },
     "metadata": {},
     "output_type": "display_data"
    }
   ],
   "source": [
    "ebm_local = ebm_final.explain_local(X_test[:5], y_test[:5], name='EBM')\n",
    "show(ebm_local, 0)"
   ]
  },
  {
   "cell_type": "markdown",
   "metadata": {},
   "source": [
    "## Modelos de caja negra"
   ]
  },
  {
   "cell_type": "code",
   "execution_count": 65,
   "metadata": {},
   "outputs": [
    {
     "name": "stdout",
     "output_type": "stream",
     "text": [
      "Validation accuracy (Random Forest): 0.709\n"
     ]
    }
   ],
   "source": [
    "random_forest = RandomForestClassifier(random_state=RANDOM_STATE)\n",
    "\n",
    "# Entrenar el modelo\n",
    "random_forest.fit(X_train, y_train)\n",
    "\n",
    "# Predecir en el conjunto de validación\n",
    "y_pred_validation_rf = random_forest.predict(X_validation)\n",
    "\n",
    "# Evaluar el rendimiento del modelo\n",
    "validation_accuracy_rf = accuracy_score(y_validation, y_pred_validation_rf)\n",
    "print('Validation accuracy (Random Forest):', validation_accuracy_rf)"
   ]
  },
  {
   "cell_type": "code",
   "execution_count": 70,
   "metadata": {},
   "outputs": [
    {
     "name": "stdout",
     "output_type": "stream",
     "text": [
      "Mejores hiperparámetros: {'n_estimators': 1850, 'max_features': 'sqrt', 'max_depth': 100, 'criterion': 'gini'}\n",
      "Mejor accuracy: 0.7298341938593694\n"
     ]
    }
   ],
   "source": [
    "param_grid = {\n",
    "    'n_estimators': [int(x) for x in np.linspace(start = 50, stop = 2000, num = 40)],\n",
    "    'criterion': ['gini', 'entropy', 'log_loss'],\n",
    "    'max_features': ['sqrt', 'log2', None], \n",
    "    'max_depth': [10, 50, 100, 200, None]\n",
    "}\n",
    "\n",
    "RF_randomizedSearch = RandomForestClassifier()\n",
    "randomized_search = RandomizedSearchCV(RF_randomizedSearch, param_grid, random_state=RANDOM_STATE, n_jobs=-1, n_iter = 100, scoring='accuracy')\n",
    "\n",
    "randomized_search.fit(X_train, y_train)\n",
    "\n",
    "best_params_rf = randomized_search.best_params_\n",
    "print(\"Mejores hiperparámetros:\", best_params_rf)\n",
    "print(\"Mejor accuracy:\", randomized_search.best_score_)"
   ]
  },
  {
   "cell_type": "markdown",
   "metadata": {},
   "source": [
    "Mejores hiperparámetros: {'n_estimators': 1500, 'max_features': 'log2', 'max_depth': 50, 'criterion': 'log_loss'}\n",
    "Mejor accuracy: 0.7287508423402792"
   ]
  },
  {
   "cell_type": "code",
   "execution_count": 73,
   "metadata": {},
   "outputs": [
    {
     "name": "stdout",
     "output_type": "stream",
     "text": [
      "Mejores hiperparámetros: {'n_estimators': 600, 'max_features': 'log2', 'max_depth': 100, 'criterion': 'log_loss'}\n",
      "Mejor accuracy: 0.730918504627176\n"
     ]
    }
   ],
   "source": [
    "param_grid = {\n",
    "    'n_estimators': [int(x) for x in np.linspace(start = 50, stop = 2000, num = 40)],\n",
    "    'criterion': ['gini', 'entropy', 'log_loss'],\n",
    "    'max_features': ['sqrt', 'log2', None], \n",
    "    'max_depth': [10, 50, 100, 200, None]\n",
    "}\n",
    "\n",
    "RF_randomizedSearch = RandomForestClassifier()\n",
    "randomized_search = RandomizedSearchCV(RF_randomizedSearch, param_grid, random_state=RANDOM_STATE, n_jobs=-1, n_iter = 500, scoring='accuracy')\n",
    "\n",
    "randomized_search.fit(X_train, y_train)\n",
    "\n",
    "best_params_rf = randomized_search.best_params_\n",
    "print(\"Mejores hiperparámetros:\", best_params_rf)\n",
    "print(\"Mejor accuracy:\", randomized_search.best_score_)"
   ]
  },
  {
   "cell_type": "code",
   "execution_count": 74,
   "metadata": {},
   "outputs": [
    {
     "ename": "KeyboardInterrupt",
     "evalue": "",
     "output_type": "error",
     "traceback": [
      "\u001b[1;31m---------------------------------------------------------------------------\u001b[0m",
      "\u001b[1;31mKeyboardInterrupt\u001b[0m                         Traceback (most recent call last)",
      "\u001b[1;32m<ipython-input-74-82c5714ad632>\u001b[0m in \u001b[0;36m<module>\u001b[1;34m\u001b[0m\n\u001b[0;32m      9\u001b[0m \u001b[0mrf_grid_search\u001b[0m \u001b[1;33m=\u001b[0m \u001b[0mGridSearchCV\u001b[0m\u001b[1;33m(\u001b[0m\u001b[0mRF_gridSearch\u001b[0m\u001b[1;33m,\u001b[0m \u001b[0mparam_grid\u001b[0m\u001b[1;33m,\u001b[0m \u001b[0mn_jobs\u001b[0m\u001b[1;33m=\u001b[0m\u001b[1;33m-\u001b[0m\u001b[1;36m1\u001b[0m\u001b[1;33m,\u001b[0m \u001b[0mscoring\u001b[0m\u001b[1;33m=\u001b[0m\u001b[1;34m'accuracy'\u001b[0m\u001b[1;33m)\u001b[0m\u001b[1;33m\u001b[0m\u001b[1;33m\u001b[0m\u001b[0m\n\u001b[0;32m     10\u001b[0m \u001b[1;33m\u001b[0m\u001b[0m\n\u001b[1;32m---> 11\u001b[1;33m \u001b[0mrf_grid_search\u001b[0m\u001b[1;33m.\u001b[0m\u001b[0mfit\u001b[0m\u001b[1;33m(\u001b[0m\u001b[0mX_train\u001b[0m\u001b[1;33m,\u001b[0m \u001b[0my_train\u001b[0m\u001b[1;33m)\u001b[0m\u001b[1;33m\u001b[0m\u001b[1;33m\u001b[0m\u001b[0m\n\u001b[0m\u001b[0;32m     12\u001b[0m \u001b[1;33m\u001b[0m\u001b[0m\n\u001b[0;32m     13\u001b[0m \u001b[0mbest_params_rf\u001b[0m \u001b[1;33m=\u001b[0m \u001b[0mrf_grid_search\u001b[0m\u001b[1;33m.\u001b[0m\u001b[0mbest_params_\u001b[0m\u001b[1;33m\u001b[0m\u001b[1;33m\u001b[0m\u001b[0m\n",
      "\u001b[1;32m~\\AppData\\Roaming\\Python\\Python38\\site-packages\\sklearn\\model_selection\\_search.py\u001b[0m in \u001b[0;36mfit\u001b[1;34m(self, X, y, groups, **fit_params)\u001b[0m\n\u001b[0;32m    872\u001b[0m                 \u001b[1;32mreturn\u001b[0m \u001b[0mresults\u001b[0m\u001b[1;33m\u001b[0m\u001b[1;33m\u001b[0m\u001b[0m\n\u001b[0;32m    873\u001b[0m \u001b[1;33m\u001b[0m\u001b[0m\n\u001b[1;32m--> 874\u001b[1;33m             \u001b[0mself\u001b[0m\u001b[1;33m.\u001b[0m\u001b[0m_run_search\u001b[0m\u001b[1;33m(\u001b[0m\u001b[0mevaluate_candidates\u001b[0m\u001b[1;33m)\u001b[0m\u001b[1;33m\u001b[0m\u001b[1;33m\u001b[0m\u001b[0m\n\u001b[0m\u001b[0;32m    875\u001b[0m \u001b[1;33m\u001b[0m\u001b[0m\n\u001b[0;32m    876\u001b[0m             \u001b[1;31m# multimetric is determined here because in the case of a callable\u001b[0m\u001b[1;33m\u001b[0m\u001b[1;33m\u001b[0m\u001b[1;33m\u001b[0m\u001b[0m\n",
      "\u001b[1;32m~\\AppData\\Roaming\\Python\\Python38\\site-packages\\sklearn\\model_selection\\_search.py\u001b[0m in \u001b[0;36m_run_search\u001b[1;34m(self, evaluate_candidates)\u001b[0m\n\u001b[0;32m   1386\u001b[0m     \u001b[1;32mdef\u001b[0m \u001b[0m_run_search\u001b[0m\u001b[1;33m(\u001b[0m\u001b[0mself\u001b[0m\u001b[1;33m,\u001b[0m \u001b[0mevaluate_candidates\u001b[0m\u001b[1;33m)\u001b[0m\u001b[1;33m:\u001b[0m\u001b[1;33m\u001b[0m\u001b[1;33m\u001b[0m\u001b[0m\n\u001b[0;32m   1387\u001b[0m         \u001b[1;34m\"\"\"Search all candidates in param_grid\"\"\"\u001b[0m\u001b[1;33m\u001b[0m\u001b[1;33m\u001b[0m\u001b[0m\n\u001b[1;32m-> 1388\u001b[1;33m         \u001b[0mevaluate_candidates\u001b[0m\u001b[1;33m(\u001b[0m\u001b[0mParameterGrid\u001b[0m\u001b[1;33m(\u001b[0m\u001b[0mself\u001b[0m\u001b[1;33m.\u001b[0m\u001b[0mparam_grid\u001b[0m\u001b[1;33m)\u001b[0m\u001b[1;33m)\u001b[0m\u001b[1;33m\u001b[0m\u001b[1;33m\u001b[0m\u001b[0m\n\u001b[0m\u001b[0;32m   1389\u001b[0m \u001b[1;33m\u001b[0m\u001b[0m\n\u001b[0;32m   1390\u001b[0m \u001b[1;33m\u001b[0m\u001b[0m\n",
      "\u001b[1;32m~\\AppData\\Roaming\\Python\\Python38\\site-packages\\sklearn\\model_selection\\_search.py\u001b[0m in \u001b[0;36mevaluate_candidates\u001b[1;34m(candidate_params, cv, more_results)\u001b[0m\n\u001b[0;32m    819\u001b[0m                     )\n\u001b[0;32m    820\u001b[0m \u001b[1;33m\u001b[0m\u001b[0m\n\u001b[1;32m--> 821\u001b[1;33m                 out = parallel(\n\u001b[0m\u001b[0;32m    822\u001b[0m                     delayed(_fit_and_score)(\n\u001b[0;32m    823\u001b[0m                         \u001b[0mclone\u001b[0m\u001b[1;33m(\u001b[0m\u001b[0mbase_estimator\u001b[0m\u001b[1;33m)\u001b[0m\u001b[1;33m,\u001b[0m\u001b[1;33m\u001b[0m\u001b[1;33m\u001b[0m\u001b[0m\n",
      "\u001b[1;32m~\\AppData\\Roaming\\Python\\Python38\\site-packages\\sklearn\\utils\\parallel.py\u001b[0m in \u001b[0;36m__call__\u001b[1;34m(self, iterable)\u001b[0m\n\u001b[0;32m     61\u001b[0m             \u001b[1;32mfor\u001b[0m \u001b[0mdelayed_func\u001b[0m\u001b[1;33m,\u001b[0m \u001b[0margs\u001b[0m\u001b[1;33m,\u001b[0m \u001b[0mkwargs\u001b[0m \u001b[1;32min\u001b[0m \u001b[0miterable\u001b[0m\u001b[1;33m\u001b[0m\u001b[1;33m\u001b[0m\u001b[0m\n\u001b[0;32m     62\u001b[0m         )\n\u001b[1;32m---> 63\u001b[1;33m         \u001b[1;32mreturn\u001b[0m \u001b[0msuper\u001b[0m\u001b[1;33m(\u001b[0m\u001b[1;33m)\u001b[0m\u001b[1;33m.\u001b[0m\u001b[0m__call__\u001b[0m\u001b[1;33m(\u001b[0m\u001b[0miterable_with_config\u001b[0m\u001b[1;33m)\u001b[0m\u001b[1;33m\u001b[0m\u001b[1;33m\u001b[0m\u001b[0m\n\u001b[0m\u001b[0;32m     64\u001b[0m \u001b[1;33m\u001b[0m\u001b[0m\n\u001b[0;32m     65\u001b[0m \u001b[1;33m\u001b[0m\u001b[0m\n",
      "\u001b[1;32m~\\AppData\\Roaming\\Python\\Python38\\site-packages\\joblib\\parallel.py\u001b[0m in \u001b[0;36m__call__\u001b[1;34m(self, iterable)\u001b[0m\n\u001b[0;32m   1096\u001b[0m \u001b[1;33m\u001b[0m\u001b[0m\n\u001b[0;32m   1097\u001b[0m             \u001b[1;32mwith\u001b[0m \u001b[0mself\u001b[0m\u001b[1;33m.\u001b[0m\u001b[0m_backend\u001b[0m\u001b[1;33m.\u001b[0m\u001b[0mretrieval_context\u001b[0m\u001b[1;33m(\u001b[0m\u001b[1;33m)\u001b[0m\u001b[1;33m:\u001b[0m\u001b[1;33m\u001b[0m\u001b[1;33m\u001b[0m\u001b[0m\n\u001b[1;32m-> 1098\u001b[1;33m                 \u001b[0mself\u001b[0m\u001b[1;33m.\u001b[0m\u001b[0mretrieve\u001b[0m\u001b[1;33m(\u001b[0m\u001b[1;33m)\u001b[0m\u001b[1;33m\u001b[0m\u001b[1;33m\u001b[0m\u001b[0m\n\u001b[0m\u001b[0;32m   1099\u001b[0m             \u001b[1;31m# Make sure that we get a last message telling us we are done\u001b[0m\u001b[1;33m\u001b[0m\u001b[1;33m\u001b[0m\u001b[1;33m\u001b[0m\u001b[0m\n\u001b[0;32m   1100\u001b[0m             \u001b[0melapsed_time\u001b[0m \u001b[1;33m=\u001b[0m \u001b[0mtime\u001b[0m\u001b[1;33m.\u001b[0m\u001b[0mtime\u001b[0m\u001b[1;33m(\u001b[0m\u001b[1;33m)\u001b[0m \u001b[1;33m-\u001b[0m \u001b[0mself\u001b[0m\u001b[1;33m.\u001b[0m\u001b[0m_start_time\u001b[0m\u001b[1;33m\u001b[0m\u001b[1;33m\u001b[0m\u001b[0m\n",
      "\u001b[1;32m~\\AppData\\Roaming\\Python\\Python38\\site-packages\\joblib\\parallel.py\u001b[0m in \u001b[0;36mretrieve\u001b[1;34m(self)\u001b[0m\n\u001b[0;32m    973\u001b[0m             \u001b[1;32mtry\u001b[0m\u001b[1;33m:\u001b[0m\u001b[1;33m\u001b[0m\u001b[1;33m\u001b[0m\u001b[0m\n\u001b[0;32m    974\u001b[0m                 \u001b[1;32mif\u001b[0m \u001b[0mgetattr\u001b[0m\u001b[1;33m(\u001b[0m\u001b[0mself\u001b[0m\u001b[1;33m.\u001b[0m\u001b[0m_backend\u001b[0m\u001b[1;33m,\u001b[0m \u001b[1;34m'supports_timeout'\u001b[0m\u001b[1;33m,\u001b[0m \u001b[1;32mFalse\u001b[0m\u001b[1;33m)\u001b[0m\u001b[1;33m:\u001b[0m\u001b[1;33m\u001b[0m\u001b[1;33m\u001b[0m\u001b[0m\n\u001b[1;32m--> 975\u001b[1;33m                     \u001b[0mself\u001b[0m\u001b[1;33m.\u001b[0m\u001b[0m_output\u001b[0m\u001b[1;33m.\u001b[0m\u001b[0mextend\u001b[0m\u001b[1;33m(\u001b[0m\u001b[0mjob\u001b[0m\u001b[1;33m.\u001b[0m\u001b[0mget\u001b[0m\u001b[1;33m(\u001b[0m\u001b[0mtimeout\u001b[0m\u001b[1;33m=\u001b[0m\u001b[0mself\u001b[0m\u001b[1;33m.\u001b[0m\u001b[0mtimeout\u001b[0m\u001b[1;33m)\u001b[0m\u001b[1;33m)\u001b[0m\u001b[1;33m\u001b[0m\u001b[1;33m\u001b[0m\u001b[0m\n\u001b[0m\u001b[0;32m    976\u001b[0m                 \u001b[1;32melse\u001b[0m\u001b[1;33m:\u001b[0m\u001b[1;33m\u001b[0m\u001b[1;33m\u001b[0m\u001b[0m\n\u001b[0;32m    977\u001b[0m                     \u001b[0mself\u001b[0m\u001b[1;33m.\u001b[0m\u001b[0m_output\u001b[0m\u001b[1;33m.\u001b[0m\u001b[0mextend\u001b[0m\u001b[1;33m(\u001b[0m\u001b[0mjob\u001b[0m\u001b[1;33m.\u001b[0m\u001b[0mget\u001b[0m\u001b[1;33m(\u001b[0m\u001b[1;33m)\u001b[0m\u001b[1;33m)\u001b[0m\u001b[1;33m\u001b[0m\u001b[1;33m\u001b[0m\u001b[0m\n",
      "\u001b[1;32m~\\AppData\\Roaming\\Python\\Python38\\site-packages\\joblib\\_parallel_backends.py\u001b[0m in \u001b[0;36mwrap_future_result\u001b[1;34m(future, timeout)\u001b[0m\n\u001b[0;32m    565\u001b[0m         AsyncResults.get from multiprocessing.\"\"\"\n\u001b[0;32m    566\u001b[0m         \u001b[1;32mtry\u001b[0m\u001b[1;33m:\u001b[0m\u001b[1;33m\u001b[0m\u001b[1;33m\u001b[0m\u001b[0m\n\u001b[1;32m--> 567\u001b[1;33m             \u001b[1;32mreturn\u001b[0m \u001b[0mfuture\u001b[0m\u001b[1;33m.\u001b[0m\u001b[0mresult\u001b[0m\u001b[1;33m(\u001b[0m\u001b[0mtimeout\u001b[0m\u001b[1;33m=\u001b[0m\u001b[0mtimeout\u001b[0m\u001b[1;33m)\u001b[0m\u001b[1;33m\u001b[0m\u001b[1;33m\u001b[0m\u001b[0m\n\u001b[0m\u001b[0;32m    568\u001b[0m         \u001b[1;32mexcept\u001b[0m \u001b[0mCfTimeoutError\u001b[0m \u001b[1;32mas\u001b[0m \u001b[0me\u001b[0m\u001b[1;33m:\u001b[0m\u001b[1;33m\u001b[0m\u001b[1;33m\u001b[0m\u001b[0m\n\u001b[0;32m    569\u001b[0m             \u001b[1;32mraise\u001b[0m \u001b[0mTimeoutError\u001b[0m \u001b[1;32mfrom\u001b[0m \u001b[0me\u001b[0m\u001b[1;33m\u001b[0m\u001b[1;33m\u001b[0m\u001b[0m\n",
      "\u001b[1;32mc:\\ProgramData\\Anaconda3\\lib\\concurrent\\futures\\_base.py\u001b[0m in \u001b[0;36mresult\u001b[1;34m(self, timeout)\u001b[0m\n\u001b[0;32m    432\u001b[0m                 \u001b[1;32mreturn\u001b[0m \u001b[0mself\u001b[0m\u001b[1;33m.\u001b[0m\u001b[0m__get_result\u001b[0m\u001b[1;33m(\u001b[0m\u001b[1;33m)\u001b[0m\u001b[1;33m\u001b[0m\u001b[1;33m\u001b[0m\u001b[0m\n\u001b[0;32m    433\u001b[0m \u001b[1;33m\u001b[0m\u001b[0m\n\u001b[1;32m--> 434\u001b[1;33m             \u001b[0mself\u001b[0m\u001b[1;33m.\u001b[0m\u001b[0m_condition\u001b[0m\u001b[1;33m.\u001b[0m\u001b[0mwait\u001b[0m\u001b[1;33m(\u001b[0m\u001b[0mtimeout\u001b[0m\u001b[1;33m)\u001b[0m\u001b[1;33m\u001b[0m\u001b[1;33m\u001b[0m\u001b[0m\n\u001b[0m\u001b[0;32m    435\u001b[0m \u001b[1;33m\u001b[0m\u001b[0m\n\u001b[0;32m    436\u001b[0m             \u001b[1;32mif\u001b[0m \u001b[0mself\u001b[0m\u001b[1;33m.\u001b[0m\u001b[0m_state\u001b[0m \u001b[1;32min\u001b[0m \u001b[1;33m[\u001b[0m\u001b[0mCANCELLED\u001b[0m\u001b[1;33m,\u001b[0m \u001b[0mCANCELLED_AND_NOTIFIED\u001b[0m\u001b[1;33m]\u001b[0m\u001b[1;33m:\u001b[0m\u001b[1;33m\u001b[0m\u001b[1;33m\u001b[0m\u001b[0m\n",
      "\u001b[1;32mc:\\ProgramData\\Anaconda3\\lib\\threading.py\u001b[0m in \u001b[0;36mwait\u001b[1;34m(self, timeout)\u001b[0m\n\u001b[0;32m    300\u001b[0m         \u001b[1;32mtry\u001b[0m\u001b[1;33m:\u001b[0m    \u001b[1;31m# restore state no matter what (e.g., KeyboardInterrupt)\u001b[0m\u001b[1;33m\u001b[0m\u001b[1;33m\u001b[0m\u001b[0m\n\u001b[0;32m    301\u001b[0m             \u001b[1;32mif\u001b[0m \u001b[0mtimeout\u001b[0m \u001b[1;32mis\u001b[0m \u001b[1;32mNone\u001b[0m\u001b[1;33m:\u001b[0m\u001b[1;33m\u001b[0m\u001b[1;33m\u001b[0m\u001b[0m\n\u001b[1;32m--> 302\u001b[1;33m                 \u001b[0mwaiter\u001b[0m\u001b[1;33m.\u001b[0m\u001b[0macquire\u001b[0m\u001b[1;33m(\u001b[0m\u001b[1;33m)\u001b[0m\u001b[1;33m\u001b[0m\u001b[1;33m\u001b[0m\u001b[0m\n\u001b[0m\u001b[0;32m    303\u001b[0m                 \u001b[0mgotit\u001b[0m \u001b[1;33m=\u001b[0m \u001b[1;32mTrue\u001b[0m\u001b[1;33m\u001b[0m\u001b[1;33m\u001b[0m\u001b[0m\n\u001b[0;32m    304\u001b[0m             \u001b[1;32melse\u001b[0m\u001b[1;33m:\u001b[0m\u001b[1;33m\u001b[0m\u001b[1;33m\u001b[0m\u001b[0m\n",
      "\u001b[1;31mKeyboardInterrupt\u001b[0m: "
     ]
    }
   ],
   "source": [
    "param_grid = {\n",
    "    'n_estimators': [int(x) for x in np.linspace(start = 50, stop = 2000, num = 40)],\n",
    "    'criterion': ['gini', 'entropy', 'log_loss'],\n",
    "    'max_features': ['sqrt', 'log2', None], \n",
    "    'max_depth': [10, 50, 100, 200, None]\n",
    "}\n",
    "\n",
    "RF_gridSearch = RandomForestClassifier()\n",
    "rf_grid_search = GridSearchCV(RF_gridSearch, param_grid, n_jobs=-1, scoring='accuracy')\n",
    "\n",
    "rf_grid_search.fit(X_train, y_train)\n",
    "\n",
    "best_params_rf = rf_grid_search.best_params_\n",
    "print(\"Mejores hiperparámetros:\", best_params_rf)\n",
    "print(\"Mejor accuracy:\", rf_grid_search.best_score_)"
   ]
  },
  {
   "cell_type": "code",
   "execution_count": 68,
   "metadata": {},
   "outputs": [
    {
     "name": "stdout",
     "output_type": "stream",
     "text": [
      "Test accuracy (Random Forest): 0.7367584745762712\n",
      "              precision    recall  f1-score   support\n",
      "\n",
      "         Bad       0.74      0.79      0.76      1015\n",
      "        Good       0.73      0.68      0.71       873\n",
      "\n",
      "    accuracy                           0.74      1888\n",
      "   macro avg       0.74      0.73      0.73      1888\n",
      "weighted avg       0.74      0.74      0.74      1888\n",
      "\n"
     ]
    }
   ],
   "source": [
    "# Predecir en el conjunto de prueba\n",
    "y_pred_test_rf = random_forest.predict(X_test)\n",
    "\n",
    "# Evaluar el rendimiento del modelo\n",
    "test_accuracy_rf = accuracy_score(y_test, y_pred_test_rf)\n",
    "print('Test accuracy (Random Forest):', test_accuracy_rf)\n",
    "\n",
    "# Generar el informe de clasificación\n",
    "report_rf = classification_report(y_test, y_pred_test_rf)\n",
    "print(report_rf)"
   ]
  },
  {
   "cell_type": "code",
   "execution_count": null,
   "metadata": {},
   "outputs": [],
   "source": []
  }
 ],
 "metadata": {
  "kernelspec": {
   "display_name": "base",
   "language": "python",
   "name": "python3"
  },
  "language_info": {
   "codemirror_mode": {
    "name": "ipython",
    "version": 3
   },
   "file_extension": ".py",
   "mimetype": "text/x-python",
   "name": "python",
   "nbconvert_exporter": "python",
   "pygments_lexer": "ipython3",
   "version": "3.8.8"
  }
 },
 "nbformat": 4,
 "nbformat_minor": 2
}
