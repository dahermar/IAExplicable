{
 "cells": [
  {
   "cell_type": "markdown",
   "metadata": {},
   "source": [
    "# Carga de librerías"
   ]
  },
  {
   "cell_type": "code",
   "execution_count": 1,
   "metadata": {},
   "outputs": [],
   "source": [
    "import pandas as pd\n",
    "import numpy as np"
   ]
  },
  {
   "cell_type": "markdown",
   "metadata": {},
   "source": [
    "# Carga y limpieza de datos"
   ]
  },
  {
   "cell_type": "code",
   "execution_count": 101,
   "metadata": {},
   "outputs": [],
   "source": [
    "# Cargar conjuntos de datos\n",
    "train_csv = pd.read_csv('data/train.csv')\n",
    "validation_csv = pd.read_csv('data/validation.csv')\n",
    "test_csv = pd.read_csv('data/test.csv')\n",
    "\n",
    "# Separar datos y etiquetas\n",
    "feature_cols = train_csv.columns.values.tolist()[1:]\n",
    "X_train = train_csv[feature_cols]\n",
    "y_train = train_csv['RiskPerformance']\n",
    "X_validation = validation_csv[feature_cols]\n",
    "y_validation = validation_csv['RiskPerformance']\n",
    "X_test = test_csv[feature_cols]\n",
    "y_test = test_csv['RiskPerformance']"
   ]
  },
  {
   "cell_type": "code",
   "execution_count": 98,
   "metadata": {},
   "outputs": [
    {
     "name": "stdout",
     "output_type": "stream",
     "text": [
      "RiskPerformance                       0\n",
      "ExternalRiskEstimate                  0\n",
      "MSinceOldestTradeOpen                 0\n",
      "MSinceMostRecentTradeOpen             0\n",
      "AverageMInFile                        0\n",
      "NumSatisfactoryTrades                 0\n",
      "NumTrades60Ever2DerogPubRec           0\n",
      "NumTrades90Ever2DerogPubRec           0\n",
      "PercentTradesNeverDelq                0\n",
      "MSinceMostRecentDelq                  0\n",
      "MaxDelq2PublicRecLast12M              0\n",
      "MaxDelqEver                           0\n",
      "NumTotalTrades                        0\n",
      "NumTradesOpeninLast12M                0\n",
      "PercentInstallTrades                  0\n",
      "MSinceMostRecentInqexcl7days          0\n",
      "NumInqLast6M                          0\n",
      "NumInqLast6Mexcl7days                 0\n",
      "NetFractionRevolvingBurden            0\n",
      "NetFractionInstallBurden              0\n",
      "NumRevolvingTradesWBalance            0\n",
      "NumInstallTradesWBalance              0\n",
      "NumBank2NatlTradesWHighUtilization    0\n",
      "PercentTradesWBalance                 0\n",
      "dtype: int64\n"
     ]
    }
   ],
   "source": [
    "# Comprobar si hay valores nulos\n",
    "print(train_csv.isnull().sum() + validation_csv.isnull().sum() + test_csv.isnull().sum())"
   ]
  },
  {
   "cell_type": "code",
   "execution_count": 102,
   "metadata": {},
   "outputs": [
    {
     "name": "stdout",
     "output_type": "stream",
     "text": [
      "       ExternalRiskEstimate  MSinceOldestTradeOpen  MSinceMostRecentTradeOpen  \\\n",
      "count           6459.000000            6459.000000                6459.000000   \n",
      "mean              67.563090             183.783558                   8.548847   \n",
      "std               21.139229             109.572157                  12.708462   \n",
      "min               -9.000000              -9.000000                  -9.000000   \n",
      "25%               63.000000             117.000000                   2.500000   \n",
      "50%               71.000000             177.000000                   5.000000   \n",
      "75%               80.000000             249.000000                  11.000000   \n",
      "max               94.000000             603.000000                 227.000000   \n",
      "\n",
      "       AverageMInFile  NumSatisfactoryTrades  NumTrades60Ever2DerogPubRec  \\\n",
      "count     6459.000000            6459.000000                  6459.000000   \n",
      "mean        74.134231              19.403158                     0.053414   \n",
      "std         38.893707              13.033631                     2.532862   \n",
      "min         -9.000000              -9.000000                    -9.000000   \n",
      "25%         52.000000              12.000000                     0.000000   \n",
      "50%         74.000000              19.000000                     0.000000   \n",
      "75%         95.000000              27.000000                     1.000000   \n",
      "max        322.000000              79.000000                    19.000000   \n",
      "\n",
      "       NumTrades90Ever2DerogPubRec  PercentTradesNeverDelq  \\\n",
      "count                  6459.000000             6459.000000   \n",
      "mean                     -0.136708               86.624245   \n",
      "std                       2.379206               26.003404   \n",
      "min                      -9.000000               -9.000000   \n",
      "25%                       0.000000               87.000000   \n",
      "50%                       0.000000               96.000000   \n",
      "75%                       0.000000              100.000000   \n",
      "max                      19.000000              100.000000   \n",
      "\n",
      "       MSinceMostRecentDelq  MaxDelq2PublicRecLast12M  ...  \\\n",
      "count           6459.000000               6459.000000  ...   \n",
      "mean               6.930639                  4.917325  ...   \n",
      "std               20.651171                  3.762166  ...   \n",
      "min               -9.000000                 -9.000000  ...   \n",
      "25%               -7.000000                  4.000000  ...   \n",
      "50%               -7.000000                  6.000000  ...   \n",
      "75%               14.000000                  7.000000  ...   \n",
      "max               82.000000                  9.000000  ...   \n",
      "\n",
      "       PercentInstallTrades  MSinceMostRecentInqexcl7days  NumInqLast6M  \\\n",
      "count           6459.000000                   6459.000000   6459.000000   \n",
      "mean              32.126026                     -0.368478      0.832327   \n",
      "std               20.110224                      6.057905      3.060437   \n",
      "min               -9.000000                     -9.000000     -9.000000   \n",
      "25%               20.000000                     -7.000000      0.000000   \n",
      "50%               31.000000                      0.000000      1.000000   \n",
      "75%               44.000000                      1.000000      2.000000   \n",
      "max              100.000000                     24.000000     29.000000   \n",
      "\n",
      "       NumInqLast6Mexcl7days  NetFractionRevolvingBurden  \\\n",
      "count            6459.000000                 6459.000000   \n",
      "mean                0.775972                   31.113175   \n",
      "std                 3.023005                   29.780757   \n",
      "min                -9.000000                   -9.000000   \n",
      "25%                 0.000000                    5.000000   \n",
      "50%                 1.000000                   25.000000   \n",
      "75%                 2.000000                   53.000000   \n",
      "max                29.000000                  232.000000   \n",
      "\n",
      "       NetFractionInstallBurden  NumRevolvingTradesWBalance  \\\n",
      "count               6459.000000                 6459.000000   \n",
      "mean                  38.528410                    3.157300   \n",
      "std                   42.282976                    4.390052   \n",
      "min                   -9.000000                   -9.000000   \n",
      "25%                   -8.000000                    2.000000   \n",
      "50%                   46.000000                    3.000000   \n",
      "75%                   78.000000                    5.000000   \n",
      "max                  471.000000                   27.000000   \n",
      "\n",
      "       NumInstallTradesWBalance  NumBank2NatlTradesWHighUtilization  \\\n",
      "count               6459.000000                         6459.000000   \n",
      "mean                   0.931723                           -0.028487   \n",
      "std                    4.096182                            3.353785   \n",
      "min                   -9.000000                           -9.000000   \n",
      "25%                    1.000000                            0.000000   \n",
      "50%                    2.000000                            0.000000   \n",
      "75%                    3.000000                            1.000000   \n",
      "max                   19.000000                           18.000000   \n",
      "\n",
      "       PercentTradesWBalance  \n",
      "count            6459.000000  \n",
      "mean               61.725654  \n",
      "std                27.623217  \n",
      "min                -9.000000  \n",
      "25%                47.000000  \n",
      "50%                67.000000  \n",
      "75%                81.500000  \n",
      "max               100.000000  \n",
      "\n",
      "[8 rows x 23 columns]\n"
     ]
    }
   ],
   "source": [
    "# Comprobar rangos de valores\n",
    "print(X_train.describe())\n",
    "\n",
    "# Normalizar los datos\n",
    "from sklearn.preprocessing import StandardScaler\n",
    "scaler = StandardScaler()\n",
    "X_train = pd.DataFrame(scaler.fit_transform(X_train))\n",
    "X_validation = pd.DataFrame(scaler.transform(X_validation))\n",
    "X_test = pd.DataFrame(scaler.transform(X_test))\n"
   ]
  },
  {
   "cell_type": "markdown",
   "metadata": {},
   "source": [
    "# Entrenamiento del modelo"
   ]
  },
  {
   "cell_type": "code",
   "execution_count": 103,
   "metadata": {},
   "outputs": [
    {
     "name": "stdout",
     "output_type": "stream",
     "text": [
      "Train accuracy: 0.7199256850905713\n",
      "Confusion matrix:\n",
      " [[2519  831]\n",
      " [ 978 2131]]\n",
      "==================================================\n",
      "Validation accuracy: 0.7005\n",
      "Confusion matrix:\n",
      " [[775 258]\n",
      " [341 626]]\n"
     ]
    }
   ],
   "source": [
    "# Modelo de regresión logística\n",
    "from sklearn.linear_model import LogisticRegression\n",
    "from sklearn.metrics import accuracy_score, confusion_matrix\n",
    "\n",
    "model = LogisticRegression()\n",
    "model.fit(X_train, y_train)\n",
    "\n",
    "y_pred_train = model.predict(X_train)\n",
    "print('Train accuracy:', accuracy_score(y_train, y_pred_train))\n",
    "print('Confusion matrix:\\n', confusion_matrix(y_train, y_pred_train))\n",
    "print('='*50)\n",
    "y_pred_validation = model.predict(X_validation)\n",
    "print('Validation accuracy:', accuracy_score(y_validation, y_pred_validation))\n",
    "print('Confusion matrix:\\n', confusion_matrix(y_validation, y_pred_validation))"
   ]
  },
  {
   "cell_type": "code",
   "execution_count": 95,
   "metadata": {},
   "outputs": [
    {
     "name": "stdout",
     "output_type": "stream",
     "text": [
      "Train accuracy: 0.7491871806781235\n",
      "Confusion matrix:\n",
      " [[2646  704]\n",
      " [ 916 2193]]\n",
      "==================================================\n",
      "Validation accuracy: 0.6945\n",
      "Confusion matrix:\n",
      " [[770 263]\n",
      " [348 619]]\n"
     ]
    }
   ],
   "source": [
    "# A modo de prueba, probamos a expandir variables para ver si se mejoran los resultados\n",
    "from sklearn.preprocessing import PolynomialFeatures\n",
    "poly = PolynomialFeatures(2)\n",
    "X_train_poly = poly.fit_transform(X_train)\n",
    "X_validation_poly = poly.transform(X_validation)\n",
    "\n",
    "# Modelo de regresión logística con variables expandidas\n",
    "model = LogisticRegression(max_iter=10000)\n",
    "model.fit(X_train_poly, y_train)\n",
    "\n",
    "y_pred_train = model.predict(X_train_poly)\n",
    "print('Train accuracy:', accuracy_score(y_train, y_pred_train))\n",
    "print('Confusion matrix:\\n', confusion_matrix(y_train, y_pred_train))\n",
    "print('='*50)\n",
    "y_pred_validation = model.predict(X_validation_poly)\n",
    "print('Validation accuracy:', accuracy_score(y_validation, y_pred_validation))\n",
    "print('Confusion matrix:\\n', confusion_matrix(y_validation, y_pred_validation))\n"
   ]
  },
  {
   "cell_type": "markdown",
   "metadata": {},
   "source": [
    "# Explicabilidad del modelo"
   ]
  },
  {
   "cell_type": "markdown",
   "metadata": {},
   "source": [
    "## Explicabilidad global"
   ]
  },
  {
   "cell_type": "code",
   "execution_count": 104,
   "metadata": {},
   "outputs": [
    {
     "data": {
      "text/html": [
       "<!-- http://127.0.0.1:7001/2551213467408/ -->\n",
       "<iframe src=\"http://127.0.0.1:7001/2551213467408/\" width=100% height=800 frameBorder=\"0\"></iframe>"
      ]
     },
     "metadata": {},
     "output_type": "display_data"
    },
    {
     "data": {
      "text/html": [
       "<!-- http://127.0.0.1:7001/2551213306704/ -->\n",
       "<iframe src=\"http://127.0.0.1:7001/2551213306704/\" width=100% height=800 frameBorder=\"0\"></iframe>"
      ]
     },
     "metadata": {},
     "output_type": "display_data"
    }
   ],
   "source": [
    "from interpret import show\n",
    "from interpret.data import ClassHistogram\n",
    "from interpret.glassbox import ExplainableBoostingClassifier\n",
    "\n",
    "# Crear un histograma de las clases\n",
    "hist = ClassHistogram().explain_data(X_train, y_train, name = 'Train Data')\n",
    "show(hist)\n",
    "\n",
    "# Crear un modelo interpretable\n",
    "ebm = ExplainableBoostingClassifier()\n",
    "ebm.fit(X_train, y_train)\n",
    "\n",
    "# Mostrar el modelo\n",
    "ebm_global = ebm.explain_global(name='EBM')\n",
    "show(ebm_global)"
   ]
  },
  {
   "cell_type": "markdown",
   "metadata": {},
   "source": [
    "## Interpretabilidad local"
   ]
  },
  {
   "cell_type": "code",
   "execution_count": 105,
   "metadata": {},
   "outputs": [
    {
     "data": {
      "text/html": [
       "<!-- http://127.0.0.1:7001/2551333670416/ -->\n",
       "<iframe src=\"http://127.0.0.1:7001/2551333670416/\" width=100% height=800 frameBorder=\"0\"></iframe>"
      ]
     },
     "metadata": {},
     "output_type": "display_data"
    }
   ],
   "source": [
    "# Mostrar la importancia de las variables\n",
    "ebm_local = ebm.explain_local(X_validation, y_validation, name='EBM')\n",
    "show(ebm_local)"
   ]
  }
 ],
 "metadata": {
  "kernelspec": {
   "display_name": "base",
   "language": "python",
   "name": "python3"
  },
  "language_info": {
   "codemirror_mode": {
    "name": "ipython",
    "version": 3
   },
   "file_extension": ".py",
   "mimetype": "text/x-python",
   "name": "python",
   "nbconvert_exporter": "python",
   "pygments_lexer": "ipython3",
   "version": "3.11.5"
  }
 },
 "nbformat": 4,
 "nbformat_minor": 2
}
