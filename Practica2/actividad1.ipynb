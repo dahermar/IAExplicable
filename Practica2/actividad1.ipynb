{
 "cells": [
  {
   "cell_type": "code",
   "execution_count": 58,
   "metadata": {},
   "outputs": [],
   "source": [
    "import math"
   ]
  },
  {
   "cell_type": "code",
   "execution_count": 59,
   "metadata": {},
   "outputs": [],
   "source": [
    "# Calculo de valores de Shapley\n",
    "def shapley_values(I, S, v_function):\n",
    "    d = len(I)\n",
    "    svs = [0 for _ in range(d)]\n",
    "    \n",
    "    for iter, i in enumerate(I):\n",
    "        sv = 0\n",
    "        S_not_i = [s for s in S if i not in s]\n",
    "        for s in S_not_i:\n",
    "            sv += (math.factorial(len(s)) * math.factorial(d - 1 - len(s)) * (v_function(s+[i]) - v_function(s))) / math.factorial(d)\n",
    "        svs[iter] = sv\n",
    "    \n",
    "    return svs\n",
    "\n",
    "# Obtencion de permutaciones S de un conjunto de caracteristicas I\n",
    "def get_permutations_of_length(I, length):\n",
    "    if length == 1:\n",
    "        return [[i] for i in I]\n",
    "    else:\n",
    "        S = []\n",
    "        for i in I:\n",
    "            S += [[i] + s for s in get_permutations_of_length([j for j in I if j != i], length-1)]\n",
    "        return S\n",
    "    \n",
    "def get_permutations(I):\n",
    "    S = []\n",
    "    for i in range(1, len(I)+1):\n",
    "        S += get_permutations_of_length(I, i)\n",
    "    return S\n"
   ]
  },
  {
   "cell_type": "code",
   "execution_count": 60,
   "metadata": {},
   "outputs": [],
   "source": [
    "# Imprimir los resultados\n",
    "def print_problem(S, I, svs, v_function, show_S=False):\n",
    "    if show_S:\n",
    "        print(f'S\\t\\t\\tv(S)')\n",
    "        for i, s in enumerate(S):\n",
    "            print(f\"{str(s):20}\\t{v_function(s)}\")\n",
    "\n",
    "    print(\"\\nI\\t\\t\\tShapley Value\")\n",
    "    for iter, i in enumerate(I):\n",
    "        print(f\"{str(i):20}\\t{svs[iter]}\")"
   ]
  },
  {
   "cell_type": "code",
   "execution_count": 61,
   "metadata": {},
   "outputs": [
    {
     "name": "stdout",
     "output_type": "stream",
     "text": [
      "\n",
      "I\t\t\tShapley Value\n",
      "1                   \t1.0\n",
      "2                   \t1.0\n",
      "3                   \t1.0\n"
     ]
    }
   ],
   "source": [
    "S = [[], [1], [2], [3], [1, 2], [1, 3], [2, 3], [1, 2, 3]]\n",
    "I = [1, 2, 3]\n",
    "def v1(s):\n",
    "    return len(s)\n",
    "\n",
    "svs = shapley_values(I, S, v1)\n",
    "\n",
    "print_problem(S, I, svs, v1)"
   ]
  },
  {
   "cell_type": "code",
   "execution_count": 62,
   "metadata": {},
   "outputs": [
    {
     "name": "stdout",
     "output_type": "stream",
     "text": [
      "\n",
      "I\t\t\tShapley Value\n",
      "1                   \t1.0\n",
      "2                   \t2.0\n",
      "3                   \t3.0\n"
     ]
    }
   ],
   "source": [
    "def v2(s):\n",
    "    x1 = 1 if 1 in s else 0\n",
    "    x2 = 1 if 2 in s else 0\n",
    "    x3 = 1 if 3 in s else 0\n",
    "    \n",
    "    return x1 + 2*x2 + 3*x3\n",
    "\n",
    "I = [1, 2, 3]\n",
    "S = get_permutations(I)\n",
    "svs = shapley_values(I, S, v2)\n",
    "\n",
    "print_problem(S, I, svs, v2)\n"
   ]
  },
  {
   "cell_type": "code",
   "execution_count": 63,
   "metadata": {},
   "outputs": [
    {
     "name": "stdout",
     "output_type": "stream",
     "text": [
      "\n",
      "I\t\t\tShapley Value\n",
      "1                   \t-30.216666666666654\n",
      "2                   \t-7.066666666666669\n",
      "3                   \t6.600000000000005\n",
      "4                   \t-41.46666666666668\n",
      "5                   \t29.75\n"
     ]
    }
   ],
   "source": [
    "def v3(s):\n",
    "    x1 = 1 if 1 in s else 0\n",
    "    x2 = 1 if 2 in s else 0\n",
    "    x3 = 1 if 3 in s else 0\n",
    "    x4 = 1 if 4 in s else 0\n",
    "    x5 = 1 if 5 in s else 0\n",
    "    \n",
    "    return x1 + x3 + 2*x4 + 3*x1*x2 + 5*x2*x5 - 10*x1*x2*x4\n",
    "\n",
    "I = [1, 2, 3, 4, 5]\n",
    "S = get_permutations(I)\n",
    "svs = shapley_values(I, S, v3)\n",
    "\n",
    "print_problem(S, I, svs, v3, show_S=False)"
   ]
  }
 ],
 "metadata": {
  "kernelspec": {
   "display_name": "base",
   "language": "python",
   "name": "python3"
  },
  "language_info": {
   "codemirror_mode": {
    "name": "ipython",
    "version": 3
   },
   "file_extension": ".py",
   "mimetype": "text/x-python",
   "name": "python",
   "nbconvert_exporter": "python",
   "pygments_lexer": "ipython3",
   "version": "3.11.5"
  }
 },
 "nbformat": 4,
 "nbformat_minor": 2
}
